{
 "cells": [
  {
   "cell_type": "markdown",
   "metadata": {},
   "source": [
    "# Data Analysis - Semantic vs. Syntactic dependecies"
   ]
  },
  {
   "cell_type": "code",
   "execution_count": 131,
   "metadata": {},
   "outputs": [],
   "source": [
    "import sys, os, json\n",
    "from collections import defaultdict, Counter\n",
    "from importlib import reload\n",
    "from IPython.display import HTML, display\n",
    "import tabulate\n",
    "import matplotlib.pyplot as plt\n",
    "from typing import List, Any, Dict, Tuple, Callable, Iterable, Union\n",
    "from graph import Graph     # mtool graphs\n",
    "import networkx as nx, numpy as np\n",
    "from networkx import NetworkXNoPath\n",
    "\n",
    "# root of project in nlp-architext repo\n",
    "libert_dir = \"/data/home/ayalklei/nlp-architect/nlp_architect/models/libert\"\n",
    "analysis_dir = f\"{libert_dir}/analysis\"\n",
    "\n",
    "# useful \"meta\" data - number of sentence per domain \n",
    "# (can be computed by #-lines in raw_sentences.txt files - `wc $liber_dir/analysis/raw_sentences/*.txt`)\n",
    "num_sents = {\"device\": 3834, \"restaurants\": 5842, \"laptops\": 3846}\n",
    "domains = list(num_sents.keys())\n",
    "\n",
    "# usefull general utils\n",
    "def display_table(table):\n",
    "    display(HTML(tabulate.tabulate(table, tablefmt='html')))\n",
    "\n",
    "def display_ndict(nested_dict: Dict[str, Dict[str, Any]], with_mean=True, pprint: Callable = None):\n",
    "    \"\"\" Display two-level nested dict as a pretty table. \"\"\"\n",
    "    if not pprint:\n",
    "        pprint = lambda x:x\n",
    "    row_labels = list(nested_dict.keys())\n",
    "    column_labels = list(list(nested_dict.values())[0].keys())\n",
    "    as_tabular = [[\"-\"] + column_labels] + \\\n",
    "                 [[row] + [pprint(nested_dict[row][col]) for col in column_labels]\n",
    "                  for row in row_labels]\n",
    "    if with_mean:\n",
    "        as_tabular[0] += [\"mean\"]\n",
    "        for i in range(1, len(as_tabular)):\n",
    "            mean = np.mean(as_tabular[i][1:])\n",
    "            as_tabular[i] += [mean]\n",
    "    display_table(as_tabular)\n",
    "\n",
    "def display_absa_graph(graph: Graph, method=\"displacy\"):\n",
    "    # visualize\n",
    "    print(f\"Sentence: {graph.input}\")\n",
    "    if method == \"dot\":\n",
    "        # visalize using dot\n",
    "        dot_fn = \"dot_example.dot\"\n",
    "        graph.dot(open(dot_fn, \"w\"))    # write dot file\n",
    "        # see dot in jupyter\n",
    "        def view_dot(fn):\n",
    "            from graphviz import Source\n",
    "            return Source.from_file(fn)\n",
    "        return view_dot(dot_fn)\n",
    "    elif method==\"tikz\":\n",
    "        # visalize using tikz\n",
    "        tikz_fn = \"tikz_example.tex\"\n",
    "        graph.tikz(open(tikz_fn, \"w\"))    # write tikz latex file\n",
    "        # I can't show it in notebook meantime since %load_ext tikzmagic not working\n",
    "        return None\n",
    "    else:\n",
    "        print(\"opinions: \", graph.opinion_spans, \n",
    "              [' '.join(graph.input.split(\" \")[i] \n",
    "                        for span in graph.opinion_spans \n",
    "                        for i in range(*span))])\n",
    "        print(\"aspects: \", graph.aspect_spans,\n",
    "              [' '.join(graph.input.split(\" \")[i] \n",
    "                        for span in graph.aspect_spans \n",
    "                        for i in range(*span))])\n",
    "        graph.displacy(jupyter=True, options={\"compact\":True, \"distance\":100})\n",
    "            \n",
    "def plot_hist_with_long_labels(array, bins=None, title=\"\"):\n",
    "    \"\"\" Display hostogram with rotated x-labels \"\"\"\n",
    "    import matplotlib.pyplot as plt\n",
    "    fig, ax = plt.subplots()\n",
    "    ax.hist(array, bins = bins or len(array), color = 'blue', edgecolor = 'black',)\n",
    "    for tick in ax.get_xticklabels():\n",
    "        tick.set_rotation(270)\n",
    "    ax.set_title(title)\n",
    "\n",
    "def plot_bar_with_long_labels(labels, values, title=\"\"):\n",
    "    \"\"\" Display hostogram with rotated x-labels \"\"\"\n",
    "    import matplotlib.pyplot as plt\n",
    "    indexes = np.arange(len(labels))\n",
    "    fig, ax = plt.subplots()\n",
    "    ax.bar(indexes, values, color = 'blue', edgecolor = 'black')\n",
    "    for tick in ax.get_xticklabels():\n",
    "        tick.set_rotation(270)\n",
    "    plt.xticks(indexes, labels)\n",
    "    ax.set_title(title)\n",
    "\n",
    "def plot_counter_with_long_labels(c: Counter):\n",
    "    plot_bar_with_long_labels(*zip(*c.items()))"
   ]
  },
  {
   "cell_type": "code",
   "execution_count": 93,
   "metadata": {},
   "outputs": [
    {
     "name": "stdout",
     "output_type": "stream",
     "text": [
      "['To', 'be', 'completely', 'fair', ',', 'the', 'only', 'redeeming', 'factor', 'was', 'the', 'food', ',', 'which', 'was', 'above', 'average', ',', 'but', 'could', \"n't\", 'make', 'up', 'for', 'all', 'the', 'other', 'deficiencies', 'of', 'Teodora', '.'] 31\n"
     ]
    }
   ],
   "source": [
    "# utils for loading and visualizing dependency graphs (both syntactic and semantic) \n",
    "def load_parsed_graph(formalism=\"dm\", domain=\"restaurants\", graph_id = 1) -> Graph:\n",
    "    # load a parsed graph\n",
    "    if formalism is \"clir\":\n",
    "        parsed_graphs_dir=f\"{libert_dir}/analysis/spacy-syndep-parses\"\n",
    "        parsed_fn=f\"{parsed_graphs_dir}/{domain}-syndep.mrp\"\n",
    "    elif formalism is \"ud\":\n",
    "        parsed_graphs_dir=f\"{libert_dir}/analysis/udpipe-syndep-parses\"\n",
    "        parsed_fn=f\"{parsed_graphs_dir}/{domain}-syndep.mrp\"\n",
    "    elif formalism in [\"dm\", \"psd\"]:    \n",
    "        parsed_graphs_dir=f\"{libert_dir}/analysis/HIT-SCIR-parses\"\n",
    "        parsed_fn=f\"{parsed_graphs_dir}/{formalism}-{domain}-output.mrp\"\n",
    "    else:\n",
    "        raise ValueError(f\"formalism {formalism} is not among supprted formalisms - clir (spacy), ud, dm, psd\")\n",
    "\n",
    "    with open(parsed_fn) as fin:\n",
    "        lines = list(fin.readlines())\n",
    "    g = Graph.decode(json.loads(lines[graph_id]))\n",
    "    # fix nodes in parsed_graph to include all tokens in input sentence\n",
    "    g._full_sentence_recovery() # my own addition to mtool, not yet merged into `master`\n",
    "    return g\n",
    "\n",
    "\n",
    "# running example\n",
    "g = load_parsed_graph(\"ud\")\n",
    "print([n.label for n in g.nodes], len(g.nodes))\n"
   ]
  },
  {
   "cell_type": "markdown",
   "metadata": {},
   "source": [
    "## Loading ABSA information into graphs\n",
    "Mark nodes in the graph with 'opinion' and 'aspect' boolean attributes  "
   ]
  },
  {
   "cell_type": "code",
   "execution_count": 94,
   "metadata": {},
   "outputs": [],
   "source": [
    "# first, read ABSA data from \"conll\" BIO-tagged files into a intermediate format.\n",
    "# our format will be per sentence - {\"sentence_id\":..., \"tokens\": [...], \"token_tags\": [...], \n",
    "#                                       \"aspect_spans\": [(from_id, to_id), ...],\n",
    "#                                       \"opinion_spans\": [(from_id, to_id), ...]}\n",
    "absa_data_dir = f\"{libert_dir}/data/conll/domains_all\"\n",
    "absa_data = {}\n",
    "formalisms = [\"clir\", \"ud\", \"dm\", \"psd\"]\n",
    "for domain in domains:\n",
    "    absa_bio_fn = f\"{absa_data_dir}/{domain}.txt\"\n",
    "    with open(absa_bio_fn) as fin:\n",
    "        # read blocks, and in empty lines (=block delimiter) - consolidate block (=sentence) info\n",
    "        block_tuples = []   # a tuple correspond to a line; \n",
    "                            # in these conll-bio ABSA files, it is a (token, bio_tag) pair\n",
    "        bio_spans, cur_span_info = [], None\n",
    "        data = []\n",
    "        running_sentence_id = 0\n",
    "        token_id = 0\n",
    "        for line in fin:\n",
    "            line = line.strip()\n",
    "            if line != \"\":\n",
    "                block_tuples.append(line.split())\n",
    "                # on the same pass, collect BIO spans info\n",
    "                _, bio_tag = line.split()\n",
    "                if (bio_tag == \"O\" or bio_tag.startswith(\"B\")) and cur_span_info: \n",
    "                    # finalize previous span\n",
    "                    cur_span_info[\"to\"] = token_id  # span is exclusive\n",
    "                    bio_spans.append(cur_span_info)\n",
    "                    cur_span_info = None\n",
    "                if bio_tag.startswith(\"B\"): # start new span \n",
    "                    # start new span \n",
    "                    label = bio_tag.split(\"-\")[1]\n",
    "                    cur_span_info = {\"from\": token_id, \"label\": label}\n",
    "                token_id += 1\n",
    "            else:   # line seperator, consolidate block information\n",
    "                tokens, bio_tags = zip(*block_tuples)\n",
    "                # ABSA-specific logic:\n",
    "                # split bio_spans into aspect spans and opinion spans \n",
    "                apsect_spans = [(s[\"from\"], s[\"to\"]) for s in bio_spans if s[\"label\"]==\"ASP\"]\n",
    "                opinion_spans = [(s[\"from\"], s[\"to\"]) for s in bio_spans if s[\"label\"]==\"OP\"]\n",
    "\n",
    "                sentence_data = {\"sentence_id\": f\"{running_sentence_id:04}\",\n",
    "                                 \"tokens\": list(tokens),\n",
    "                                 \"token_tags\": bio_tags,    # auxilary info\n",
    "                                 \"apsect_spans\": apsect_spans,\n",
    "                                 \"opinion_spans\": opinion_spans}\n",
    "                data.append(sentence_data) \n",
    "                # initialize for next block   \n",
    "                running_sentence_id += 1\n",
    "                block_tuples = [] \n",
    "                token_id = 0\n",
    "                bio_spans, cur_span_info = [], None\n",
    "    absa_data[domain] = data"
   ]
  },
  {
   "cell_type": "code",
   "execution_count": 117,
   "metadata": {},
   "outputs": [],
   "source": [
    "# now with any loaded graph, we can augment ABSA information into graph\n",
    "def load_absa_graph(formalism=\"dm\", domain=\"laptops\", graph_id = 3240):\n",
    "    g = load_parsed_graph(formalism=formalism, domain=domain, graph_id=graph_id)\n",
    "    sent_absa = absa_data[domain][graph_id]\n",
    "    # verify correspondense\n",
    "    assert g.input.split() == sent_absa[\"tokens\"], \\\n",
    "        f\"mismatch between parsed graph and absa-data: '{g.input.split()}' vs. '{sent_absa['tokens']}'\"\n",
    "    # augment ABSA info into graphs:\n",
    "    #  - in graph level (`aspect_spans` and `opinion_spans` graph properties)\n",
    "            # `first_node` requisite: fixing node ids in \"aspect/opinion terms\" so that they will correspond \n",
    "            # to their index in g.nodes list. It is mainly for 1-indexed graphs like\n",
    "            # those deserialized from CoNLL-U files (where first token's id is 1 and not 0).\n",
    "    first_node = min(n.id for n in g.nodes)\n",
    "    g.aspect_spans = [(b+first_node,e+first_node) for b,e in sent_absa[\"apsect_spans\"]]\n",
    "    g.opinion_spans = [(b+first_node,e+first_node) for b,e in sent_absa[\"opinion_spans\"]]\n",
    "    #  - in node level (`aspect_term` and `opinion_term` node properties)\n",
    "    for n in g.nodes:\n",
    "        n.aspect_term = False\n",
    "        n.opinion_term = False\n",
    "    for span in g.aspect_spans:\n",
    "        for i in range(*span):\n",
    "            g.find_node(i).aspect_term = True\n",
    "    for span in g.opinion_spans:\n",
    "        for i in range(*span):\n",
    "            g.find_node(i).opinion_term = True\n",
    "    return g\n",
    "\n",
    "# Select running example \n",
    "formalism=\"ud\"; domain=\"device\"; graph_id=num_sents[domain]\n",
    "g = load_parsed_graph(formalism=formalism, domain=domain, graph_id=graph_id)\n",
    "g2 = load_absa_graph(formalism=formalism, domain=domain, graph_id=graph_id)\n",
    "# g2.displacy(jupyter=True)\n",
    "# absa_data[\"laptops\"][3034]\n"
   ]
  },
  {
   "cell_type": "code",
   "execution_count": 96,
   "metadata": {},
   "outputs": [
    {
     "name": "stdout",
     "output_type": "stream",
     "text": [
      "0:feels  1:solid  2:in  3:hand  4:.\n",
      "aspects: [(1, 2)]\n",
      "opinions: [(2, 3)]\n"
     ]
    }
   ],
   "source": [
    "# inspect some properties of example graph\n",
    "print('  '.join([f\"{i}:{tok}\" for i,tok in enumerate(g2.input.split())]))\n",
    "print(\"aspects:\", g2.aspect_spans)\n",
    "print(\"opinions:\", g2.opinion_spans)"
   ]
  },
  {
   "cell_type": "markdown",
   "metadata": {},
   "source": [
    "## Collect & Filter indicative graphs\n",
    "Filter sentences with single OT & single AT. Since we don't have a AT<->OT mapping in the annotations, we should limit the analysis of AT--OT paths to cases where we are certain they are corresponding.   "
   ]
  },
  {
   "cell_type": "code",
   "execution_count": 97,
   "metadata": {},
   "outputs": [],
   "source": [
    "# collect all graphs (by formalism, by domain) - NOTE: takes several minutes in first run, afterwards loading from file\n",
    "from collections import defaultdict\n",
    "import pickle\n",
    "all_graphs_fn = \"all_absa_graphs.pickle\"\n",
    "try:\n",
    "    all_graphs = pickle.load(open(all_graphs_fn, \"rb\"))\n",
    "except FileNotFoundError:\n",
    "    all_graphs = defaultdict(dict)  # will be: {<formalism>: {<domain>: [sent-0-graph, ...], ...}, ...}\n",
    "    for formalism in formalisms:\n",
    "        for domain in domains:\n",
    "            graphs = [load_absa_graph(formalism, domain, i) for i in range(num_sents[domain])]\n",
    "            all_graphs[formalism][domain] = graphs\n",
    "    pickle.dump(all_graphs, open(all_graphs_fn, \"wb\"))"
   ]
  },
  {
   "cell_type": "code",
   "execution_count": 98,
   "metadata": {},
   "outputs": [
    {
     "name": "stdout",
     "output_type": "stream",
     "text": [
      "collected 54088 graphs.\n"
     ]
    }
   ],
   "source": [
    "def count_graphs(graphs: Dict[str, Dict[str, List[Graph]]]) -> int:\n",
    "    return  sum([1\n",
    "                 for formalism_dict in graphs.values()\n",
    "                 for domain_list in formalism_dict.values()\n",
    "                 for g in domain_list])\n",
    "print(f\"collected {count_graphs(all_graphs)} graphs.\")"
   ]
  },
  {
   "cell_type": "code",
   "execution_count": 99,
   "metadata": {},
   "outputs": [],
   "source": [
    "# filter indicative graphs \n",
    "def is_indicative_graph(g: Graph) -> bool:\n",
    "    \"\"\" return true iff sentence have a single Aspect-Term (AT) and a single Opinion-Term (OT). \"\"\"\n",
    "    return len(g.aspect_spans)==1 and len(g.opinion_spans)==1\n",
    "\n",
    "indicative_sentences_ids = {domain: [i\n",
    "                                     for i in range(num_sents[domain]) \n",
    "                                     if is_indicative_graph(all_graphs[\"ud\"][domain][i])]\n",
    "                            for domain in domains}\n",
    "all_indicative_graphs = {formalism: \n",
    "                             {domain: \n",
    "                                  [all_graphs[formalism][domain][i]\n",
    "                                   for i in range(num_sents[domain])\n",
    "                                   if i in indicative_sentences_ids[domain]]\n",
    "                              for domain in domains}\n",
    "                         for formalism in formalisms}\n"
   ]
  },
  {
   "cell_type": "code",
   "execution_count": 100,
   "metadata": {},
   "outputs": [
    {
     "name": "stdout",
     "output_type": "stream",
     "text": [
      "collected 9804 indicative graphs.\n"
     ]
    }
   ],
   "source": [
    "print(f\"collected {count_graphs(all_indicative_graphs)} indicative graphs.\")"
   ]
  },
  {
   "cell_type": "markdown",
   "metadata": {},
   "source": [
    "## Leveraging NetworkX classes for data analysis\n",
    "We will convert mtool's `Graph`s to `nx.DiGraph` objects. \n",
    "Then, we can use nx to search for path and to convert the graph to an undirected graph. \n"
   ]
  },
  {
   "cell_type": "code",
   "execution_count": 165,
   "metadata": {},
   "outputs": [],
   "source": [
    "def take_keys(d: Dict, keys: List[Any]):\n",
    "    return {k:v for k,v in d.items() if k in keys}\n",
    "\n",
    "def to_nx(g: Graph) -> nx.DiGraph:\n",
    "    graph_attr = take_keys(g.__dict__, [\"flavor\", \"framework\", \"id\", \"input\", \"opinion_spans\", \"aspect_spans\"])\n",
    "    nxg = nx.DiGraph(**graph_attr)\n",
    "    nxg.g = g # save original `mtool` Graph object simple as `g` property\n",
    "    # for better transparency between nx.DiGraph and mtool's Graph, put graph attributes\n",
    "    # as first order properties in DiGraph object\n",
    "    nxg.__dict__.update(**graph_attr)\n",
    "    # add nodes\n",
    "    for node in g.nodes:\n",
    "        attr = take_keys(node.__dict__, ['id', 'anchors', 'label', 'is_top', 'type', 'opinion_term', 'aspect_term'])\n",
    "        # put g.node properties as first-order citizens in nxg.node properties\n",
    "        if node.properties and node.values:\n",
    "            attr.update(dict(zip(node.properties, node.values)))\n",
    "        nxg.add_node(node.id, **attr)\n",
    "    # add edges\n",
    "    for edge in g.edges:\n",
    "        attr = take_keys(edge.__dict__, ['lab', 'anchors', 'id', 'normal'])\n",
    "        # put g.edge attributes as first-order citizens in nxg.edge properties\n",
    "        if edge.attributes and edge.values:\n",
    "            attr.update(dict(zip(edge.attributes, edge.values)))\n",
    "        nxg.add_edge(edge.src, edge.tgt, **attr)\n",
    "    return nxg\n",
    "\n",
    "# running example\n",
    "g2 = all_indicative_graphs[\"ud\"][\"device\"][0]\n",
    "nxg = to_nx(g2)"
   ]
  },
  {
   "cell_type": "markdown",
   "metadata": {},
   "source": [
    "## Compute average **directed** path length between AT and OT"
   ]
  },
  {
   "cell_type": "code",
   "execution_count": 102,
   "metadata": {},
   "outputs": [],
   "source": [
    "def filtered(array):\n",
    "    filtered_array = [e for e in array if e is not None]\n",
    "    return filtered_array \n",
    "\n",
    "def filtered_f(array, f: Callable[[Iterable[Graph],], Any]):\n",
    "    filtered_array = filtered(array)\n",
    "    return f(filtered_array) if filtered_array else None\n",
    "\n",
    "    \n",
    "def directed_path_length(nxg: nx.DiGraph):\n",
    "    def shortest_path_length(source, target) -> Union[int, None]:\n",
    "        try:\n",
    "            return nx.shortest_path_length(nxg, source=source, target=target)\n",
    "        except NetworkXNoPath:\n",
    "            return None\n",
    "        \n",
    "    # Return the minimum path length between an OT token and an AT token (either AT~~>OT or OT~~>AT)\n",
    "    OT2AT_path_lengths = [shortest_path_length(source_tokid, target_tokid) \n",
    "                          for source_tokid in range(*nxg.opinion_spans[0])\n",
    "                          for target_tokid in range(*nxg.aspect_spans[0])]\n",
    "    AT2OT_path_lengths = [shortest_path_length(source_tokid, target_tokid) \n",
    "                          for source_tokid in range(*nxg.aspect_spans[0])\n",
    "                          for target_tokid in range(*nxg.opinion_spans[0])]\n",
    "    return filtered_f(OT2AT_path_lengths + AT2OT_path_lengths, min)\n"
   ]
  },
  {
   "cell_type": "code",
   "execution_count": 167,
   "metadata": {},
   "outputs": [
    {
     "name": "stdout",
     "output_type": "stream",
     "text": [
      "15 delighted True\n",
      "14 am False\n",
      "[(15, 16)]\n",
      "[15, 13]\n",
      "Sentence: after several years of torture in the hands of at&t customer service i am delighted to drop them , and look forward to august 2004 when i will convert our other 3 family-phones from at&t to t-mobile !\n",
      "opinions:  [(15, 16)] ['to']\n",
      "aspects:  [(10, 13)] ['customer service i']\n"
     ]
    },
    {
     "data": {
      "text/html": [
       "<span class=\"tex2jax_ignore\"><svg xmlns=\"http://www.w3.org/2000/svg\" xmlns:xlink=\"http://www.w3.org/1999/xlink\" xml:lang=\"en\" id=\"67130ad416b5436abe7f2a632690bc55-0\" class=\"displacy\" width=\"3850\" height=\"587.0\" direction=\"ltr\" style=\"max-width: none; height: 587.0px; color: #000000; background: #ffffff; font-family: Arial; direction: ltr\">\n",
       "<text class=\"displacy-token\" fill=\"currentColor\" text-anchor=\"middle\" y=\"497.0\">\n",
       "    <tspan class=\"displacy-word\" fill=\"currentColor\" x=\"50\">after</tspan>\n",
       "    <tspan class=\"displacy-tag\" dy=\"2em\" fill=\"currentColor\" x=\"50\"></tspan>\n",
       "</text>\n",
       "\n",
       "<text class=\"displacy-token\" fill=\"currentColor\" text-anchor=\"middle\" y=\"497.0\">\n",
       "    <tspan class=\"displacy-word\" fill=\"currentColor\" x=\"150\">several</tspan>\n",
       "    <tspan class=\"displacy-tag\" dy=\"2em\" fill=\"currentColor\" x=\"150\"></tspan>\n",
       "</text>\n",
       "\n",
       "<text class=\"displacy-token\" fill=\"currentColor\" text-anchor=\"middle\" y=\"497.0\">\n",
       "    <tspan class=\"displacy-word\" fill=\"currentColor\" x=\"250\">years</tspan>\n",
       "    <tspan class=\"displacy-tag\" dy=\"2em\" fill=\"currentColor\" x=\"250\"></tspan>\n",
       "</text>\n",
       "\n",
       "<text class=\"displacy-token\" fill=\"currentColor\" text-anchor=\"middle\" y=\"497.0\">\n",
       "    <tspan class=\"displacy-word\" fill=\"currentColor\" x=\"350\">of</tspan>\n",
       "    <tspan class=\"displacy-tag\" dy=\"2em\" fill=\"currentColor\" x=\"350\"></tspan>\n",
       "</text>\n",
       "\n",
       "<text class=\"displacy-token\" fill=\"currentColor\" text-anchor=\"middle\" y=\"497.0\">\n",
       "    <tspan class=\"displacy-word\" fill=\"currentColor\" x=\"450\">torture</tspan>\n",
       "    <tspan class=\"displacy-tag\" dy=\"2em\" fill=\"currentColor\" x=\"450\"></tspan>\n",
       "</text>\n",
       "\n",
       "<text class=\"displacy-token\" fill=\"currentColor\" text-anchor=\"middle\" y=\"497.0\">\n",
       "    <tspan class=\"displacy-word\" fill=\"currentColor\" x=\"550\">in</tspan>\n",
       "    <tspan class=\"displacy-tag\" dy=\"2em\" fill=\"currentColor\" x=\"550\"></tspan>\n",
       "</text>\n",
       "\n",
       "<text class=\"displacy-token\" fill=\"currentColor\" text-anchor=\"middle\" y=\"497.0\">\n",
       "    <tspan class=\"displacy-word\" fill=\"currentColor\" x=\"650\">the</tspan>\n",
       "    <tspan class=\"displacy-tag\" dy=\"2em\" fill=\"currentColor\" x=\"650\"></tspan>\n",
       "</text>\n",
       "\n",
       "<text class=\"displacy-token\" fill=\"currentColor\" text-anchor=\"middle\" y=\"497.0\">\n",
       "    <tspan class=\"displacy-word\" fill=\"currentColor\" x=\"750\">hands</tspan>\n",
       "    <tspan class=\"displacy-tag\" dy=\"2em\" fill=\"currentColor\" x=\"750\"></tspan>\n",
       "</text>\n",
       "\n",
       "<text class=\"displacy-token\" fill=\"currentColor\" text-anchor=\"middle\" y=\"497.0\">\n",
       "    <tspan class=\"displacy-word\" fill=\"currentColor\" x=\"850\">of</tspan>\n",
       "    <tspan class=\"displacy-tag\" dy=\"2em\" fill=\"currentColor\" x=\"850\"></tspan>\n",
       "</text>\n",
       "\n",
       "<text class=\"displacy-token\" fill=\"currentColor\" text-anchor=\"middle\" y=\"497.0\">\n",
       "    <tspan class=\"displacy-word\" fill=\"currentColor\" x=\"950\">at&amp;t</tspan>\n",
       "    <tspan class=\"displacy-tag\" dy=\"2em\" fill=\"currentColor\" x=\"950\"></tspan>\n",
       "</text>\n",
       "\n",
       "<text class=\"displacy-token\" fill=\"currentColor\" text-anchor=\"middle\" y=\"497.0\">\n",
       "    <tspan class=\"displacy-word\" fill=\"currentColor\" x=\"1050\">customer</tspan>\n",
       "    <tspan class=\"displacy-tag\" dy=\"2em\" fill=\"currentColor\" x=\"1050\"></tspan>\n",
       "</text>\n",
       "\n",
       "<text class=\"displacy-token\" fill=\"currentColor\" text-anchor=\"middle\" y=\"497.0\">\n",
       "    <tspan class=\"displacy-word\" fill=\"currentColor\" x=\"1150\">service</tspan>\n",
       "    <tspan class=\"displacy-tag\" dy=\"2em\" fill=\"currentColor\" x=\"1150\"></tspan>\n",
       "</text>\n",
       "\n",
       "<text class=\"displacy-token\" fill=\"currentColor\" text-anchor=\"middle\" y=\"497.0\">\n",
       "    <tspan class=\"displacy-word\" fill=\"currentColor\" x=\"1250\">i</tspan>\n",
       "    <tspan class=\"displacy-tag\" dy=\"2em\" fill=\"currentColor\" x=\"1250\"></tspan>\n",
       "</text>\n",
       "\n",
       "<text class=\"displacy-token\" fill=\"currentColor\" text-anchor=\"middle\" y=\"497.0\">\n",
       "    <tspan class=\"displacy-word\" fill=\"currentColor\" x=\"1350\">am</tspan>\n",
       "    <tspan class=\"displacy-tag\" dy=\"2em\" fill=\"currentColor\" x=\"1350\"></tspan>\n",
       "</text>\n",
       "\n",
       "<text class=\"displacy-token\" fill=\"currentColor\" text-anchor=\"middle\" y=\"497.0\">\n",
       "    <tspan class=\"displacy-word\" fill=\"currentColor\" x=\"1450\">delighted</tspan>\n",
       "    <tspan class=\"displacy-tag\" dy=\"2em\" fill=\"currentColor\" x=\"1450\"></tspan>\n",
       "</text>\n",
       "\n",
       "<text class=\"displacy-token\" fill=\"currentColor\" text-anchor=\"middle\" y=\"497.0\">\n",
       "    <tspan class=\"displacy-word\" fill=\"currentColor\" x=\"1550\">to</tspan>\n",
       "    <tspan class=\"displacy-tag\" dy=\"2em\" fill=\"currentColor\" x=\"1550\"></tspan>\n",
       "</text>\n",
       "\n",
       "<text class=\"displacy-token\" fill=\"currentColor\" text-anchor=\"middle\" y=\"497.0\">\n",
       "    <tspan class=\"displacy-word\" fill=\"currentColor\" x=\"1650\">drop</tspan>\n",
       "    <tspan class=\"displacy-tag\" dy=\"2em\" fill=\"currentColor\" x=\"1650\"></tspan>\n",
       "</text>\n",
       "\n",
       "<text class=\"displacy-token\" fill=\"currentColor\" text-anchor=\"middle\" y=\"497.0\">\n",
       "    <tspan class=\"displacy-word\" fill=\"currentColor\" x=\"1750\">them</tspan>\n",
       "    <tspan class=\"displacy-tag\" dy=\"2em\" fill=\"currentColor\" x=\"1750\"></tspan>\n",
       "</text>\n",
       "\n",
       "<text class=\"displacy-token\" fill=\"currentColor\" text-anchor=\"middle\" y=\"497.0\">\n",
       "    <tspan class=\"displacy-word\" fill=\"currentColor\" x=\"1850\">,</tspan>\n",
       "    <tspan class=\"displacy-tag\" dy=\"2em\" fill=\"currentColor\" x=\"1850\"></tspan>\n",
       "</text>\n",
       "\n",
       "<text class=\"displacy-token\" fill=\"currentColor\" text-anchor=\"middle\" y=\"497.0\">\n",
       "    <tspan class=\"displacy-word\" fill=\"currentColor\" x=\"1950\">and</tspan>\n",
       "    <tspan class=\"displacy-tag\" dy=\"2em\" fill=\"currentColor\" x=\"1950\"></tspan>\n",
       "</text>\n",
       "\n",
       "<text class=\"displacy-token\" fill=\"currentColor\" text-anchor=\"middle\" y=\"497.0\">\n",
       "    <tspan class=\"displacy-word\" fill=\"currentColor\" x=\"2050\">look</tspan>\n",
       "    <tspan class=\"displacy-tag\" dy=\"2em\" fill=\"currentColor\" x=\"2050\"></tspan>\n",
       "</text>\n",
       "\n",
       "<text class=\"displacy-token\" fill=\"currentColor\" text-anchor=\"middle\" y=\"497.0\">\n",
       "    <tspan class=\"displacy-word\" fill=\"currentColor\" x=\"2150\">forward</tspan>\n",
       "    <tspan class=\"displacy-tag\" dy=\"2em\" fill=\"currentColor\" x=\"2150\"></tspan>\n",
       "</text>\n",
       "\n",
       "<text class=\"displacy-token\" fill=\"currentColor\" text-anchor=\"middle\" y=\"497.0\">\n",
       "    <tspan class=\"displacy-word\" fill=\"currentColor\" x=\"2250\">to</tspan>\n",
       "    <tspan class=\"displacy-tag\" dy=\"2em\" fill=\"currentColor\" x=\"2250\"></tspan>\n",
       "</text>\n",
       "\n",
       "<text class=\"displacy-token\" fill=\"currentColor\" text-anchor=\"middle\" y=\"497.0\">\n",
       "    <tspan class=\"displacy-word\" fill=\"currentColor\" x=\"2350\">august</tspan>\n",
       "    <tspan class=\"displacy-tag\" dy=\"2em\" fill=\"currentColor\" x=\"2350\"></tspan>\n",
       "</text>\n",
       "\n",
       "<text class=\"displacy-token\" fill=\"currentColor\" text-anchor=\"middle\" y=\"497.0\">\n",
       "    <tspan class=\"displacy-word\" fill=\"currentColor\" x=\"2450\">2004</tspan>\n",
       "    <tspan class=\"displacy-tag\" dy=\"2em\" fill=\"currentColor\" x=\"2450\"></tspan>\n",
       "</text>\n",
       "\n",
       "<text class=\"displacy-token\" fill=\"currentColor\" text-anchor=\"middle\" y=\"497.0\">\n",
       "    <tspan class=\"displacy-word\" fill=\"currentColor\" x=\"2550\">when</tspan>\n",
       "    <tspan class=\"displacy-tag\" dy=\"2em\" fill=\"currentColor\" x=\"2550\"></tspan>\n",
       "</text>\n",
       "\n",
       "<text class=\"displacy-token\" fill=\"currentColor\" text-anchor=\"middle\" y=\"497.0\">\n",
       "    <tspan class=\"displacy-word\" fill=\"currentColor\" x=\"2650\">i</tspan>\n",
       "    <tspan class=\"displacy-tag\" dy=\"2em\" fill=\"currentColor\" x=\"2650\"></tspan>\n",
       "</text>\n",
       "\n",
       "<text class=\"displacy-token\" fill=\"currentColor\" text-anchor=\"middle\" y=\"497.0\">\n",
       "    <tspan class=\"displacy-word\" fill=\"currentColor\" x=\"2750\">will</tspan>\n",
       "    <tspan class=\"displacy-tag\" dy=\"2em\" fill=\"currentColor\" x=\"2750\"></tspan>\n",
       "</text>\n",
       "\n",
       "<text class=\"displacy-token\" fill=\"currentColor\" text-anchor=\"middle\" y=\"497.0\">\n",
       "    <tspan class=\"displacy-word\" fill=\"currentColor\" x=\"2850\">convert</tspan>\n",
       "    <tspan class=\"displacy-tag\" dy=\"2em\" fill=\"currentColor\" x=\"2850\"></tspan>\n",
       "</text>\n",
       "\n",
       "<text class=\"displacy-token\" fill=\"currentColor\" text-anchor=\"middle\" y=\"497.0\">\n",
       "    <tspan class=\"displacy-word\" fill=\"currentColor\" x=\"2950\">our</tspan>\n",
       "    <tspan class=\"displacy-tag\" dy=\"2em\" fill=\"currentColor\" x=\"2950\"></tspan>\n",
       "</text>\n",
       "\n",
       "<text class=\"displacy-token\" fill=\"currentColor\" text-anchor=\"middle\" y=\"497.0\">\n",
       "    <tspan class=\"displacy-word\" fill=\"currentColor\" x=\"3050\">other</tspan>\n",
       "    <tspan class=\"displacy-tag\" dy=\"2em\" fill=\"currentColor\" x=\"3050\"></tspan>\n",
       "</text>\n",
       "\n",
       "<text class=\"displacy-token\" fill=\"currentColor\" text-anchor=\"middle\" y=\"497.0\">\n",
       "    <tspan class=\"displacy-word\" fill=\"currentColor\" x=\"3150\">3</tspan>\n",
       "    <tspan class=\"displacy-tag\" dy=\"2em\" fill=\"currentColor\" x=\"3150\"></tspan>\n",
       "</text>\n",
       "\n",
       "<text class=\"displacy-token\" fill=\"currentColor\" text-anchor=\"middle\" y=\"497.0\">\n",
       "    <tspan class=\"displacy-word\" fill=\"currentColor\" x=\"3250\">family-phones</tspan>\n",
       "    <tspan class=\"displacy-tag\" dy=\"2em\" fill=\"currentColor\" x=\"3250\"></tspan>\n",
       "</text>\n",
       "\n",
       "<text class=\"displacy-token\" fill=\"currentColor\" text-anchor=\"middle\" y=\"497.0\">\n",
       "    <tspan class=\"displacy-word\" fill=\"currentColor\" x=\"3350\">from</tspan>\n",
       "    <tspan class=\"displacy-tag\" dy=\"2em\" fill=\"currentColor\" x=\"3350\"></tspan>\n",
       "</text>\n",
       "\n",
       "<text class=\"displacy-token\" fill=\"currentColor\" text-anchor=\"middle\" y=\"497.0\">\n",
       "    <tspan class=\"displacy-word\" fill=\"currentColor\" x=\"3450\">at&amp;t</tspan>\n",
       "    <tspan class=\"displacy-tag\" dy=\"2em\" fill=\"currentColor\" x=\"3450\"></tspan>\n",
       "</text>\n",
       "\n",
       "<text class=\"displacy-token\" fill=\"currentColor\" text-anchor=\"middle\" y=\"497.0\">\n",
       "    <tspan class=\"displacy-word\" fill=\"currentColor\" x=\"3550\">to</tspan>\n",
       "    <tspan class=\"displacy-tag\" dy=\"2em\" fill=\"currentColor\" x=\"3550\"></tspan>\n",
       "</text>\n",
       "\n",
       "<text class=\"displacy-token\" fill=\"currentColor\" text-anchor=\"middle\" y=\"497.0\">\n",
       "    <tspan class=\"displacy-word\" fill=\"currentColor\" x=\"3650\">t-mobile</tspan>\n",
       "    <tspan class=\"displacy-tag\" dy=\"2em\" fill=\"currentColor\" x=\"3650\"></tspan>\n",
       "</text>\n",
       "\n",
       "<text class=\"displacy-token\" fill=\"currentColor\" text-anchor=\"middle\" y=\"497.0\">\n",
       "    <tspan class=\"displacy-word\" fill=\"currentColor\" x=\"3750\">!</tspan>\n",
       "    <tspan class=\"displacy-tag\" dy=\"2em\" fill=\"currentColor\" x=\"3750\"></tspan>\n",
       "</text>\n",
       "\n",
       "<g class=\"displacy-arrow\">\n",
       "    <path class=\"displacy-arc\" id=\"arrow-67130ad416b5436abe7f2a632690bc55-0-0\" stroke-width=\"2px\" d=\"M362,452.0 362,418.6666666666667 529.0,418.6666666666667 529.0,452.0\" fill=\"none\" stroke=\"currentColor\"/>\n",
       "    <text dy=\"1.25em\" style=\"font-size: 0.8em; letter-spacing: 1px\">\n",
       "        <textPath xlink:href=\"#arrow-67130ad416b5436abe7f2a632690bc55-0-0\" class=\"displacy-label\" startOffset=\"50%\" side=\"left\" fill=\"currentColor\" text-anchor=\"middle\">nmod</textPath>\n",
       "    </text>\n",
       "    <path class=\"displacy-arrowhead\" d=\"M529.0,454.0 L533.0,446.0 525.0,446.0\" fill=\"currentColor\"/>\n",
       "</g>\n",
       "\n",
       "<g class=\"displacy-arrow\">\n",
       "    <path class=\"displacy-arc\" id=\"arrow-67130ad416b5436abe7f2a632690bc55-0-1\" stroke-width=\"2px\" d=\"M3062,452.0 3062,402.0 3332.0,402.0 3332.0,452.0\" fill=\"none\" stroke=\"currentColor\"/>\n",
       "    <text dy=\"1.25em\" style=\"font-size: 0.8em; letter-spacing: 1px\">\n",
       "        <textPath xlink:href=\"#arrow-67130ad416b5436abe7f2a632690bc55-0-1\" class=\"displacy-label\" startOffset=\"50%\" side=\"left\" fill=\"currentColor\" text-anchor=\"middle\">nmod:poss</textPath>\n",
       "    </text>\n",
       "    <path class=\"displacy-arrowhead\" d=\"M3062,454.0 L3058,446.0 3066,446.0\" fill=\"currentColor\"/>\n",
       "</g>\n",
       "\n",
       "<g class=\"displacy-arrow\">\n",
       "    <path class=\"displacy-arc\" id=\"arrow-67130ad416b5436abe7f2a632690bc55-0-2\" stroke-width=\"2px\" d=\"M3362,452.0 3362,418.6666666666667 3529.0,418.6666666666667 3529.0,452.0\" fill=\"none\" stroke=\"currentColor\"/>\n",
       "    <text dy=\"1.25em\" style=\"font-size: 0.8em; letter-spacing: 1px\">\n",
       "        <textPath xlink:href=\"#arrow-67130ad416b5436abe7f2a632690bc55-0-2\" class=\"displacy-label\" startOffset=\"50%\" side=\"left\" fill=\"currentColor\" text-anchor=\"middle\">obj</textPath>\n",
       "    </text>\n",
       "    <path class=\"displacy-arrowhead\" d=\"M3362,454.0 L3358,446.0 3366,446.0\" fill=\"currentColor\"/>\n",
       "</g>\n",
       "\n",
       "<g class=\"displacy-arrow\">\n",
       "    <path class=\"displacy-arc\" id=\"arrow-67130ad416b5436abe7f2a632690bc55-0-3\" stroke-width=\"2px\" d=\"M1162,452.0 1162,435.3333333333333 1226.0,435.3333333333333 1226.0,452.0\" fill=\"none\" stroke=\"currentColor\"/>\n",
       "    <text dy=\"1.25em\" style=\"font-size: 0.8em; letter-spacing: 1px\">\n",
       "        <textPath xlink:href=\"#arrow-67130ad416b5436abe7f2a632690bc55-0-3\" class=\"displacy-label\" startOffset=\"50%\" side=\"left\" fill=\"currentColor\" text-anchor=\"middle\">compound</textPath>\n",
       "    </text>\n",
       "    <path class=\"displacy-arrowhead\" d=\"M1162,454.0 L1158,446.0 1166,446.0\" fill=\"currentColor\"/>\n",
       "</g>\n",
       "\n",
       "<g class=\"displacy-arrow\">\n",
       "    <path class=\"displacy-arc\" id=\"arrow-67130ad416b5436abe7f2a632690bc55-0-4\" stroke-width=\"2px\" d=\"M1462,452.0 1462,435.3333333333333 1526.0,435.3333333333333 1526.0,452.0\" fill=\"none\" stroke=\"currentColor\"/>\n",
       "    <text dy=\"1.25em\" style=\"font-size: 0.8em; letter-spacing: 1px\">\n",
       "        <textPath xlink:href=\"#arrow-67130ad416b5436abe7f2a632690bc55-0-4\" class=\"displacy-label\" startOffset=\"50%\" side=\"left\" fill=\"currentColor\" text-anchor=\"middle\">cop</textPath>\n",
       "    </text>\n",
       "    <path class=\"displacy-arrowhead\" d=\"M1462,454.0 L1458,446.0 1466,446.0\" fill=\"currentColor\"/>\n",
       "</g>\n",
       "\n",
       "<g class=\"displacy-arrow\">\n",
       "    <path class=\"displacy-arc\" id=\"arrow-67130ad416b5436abe7f2a632690bc55-0-5\" stroke-width=\"2px\" d=\"M1062,452.0 1062,418.6666666666667 1229.0,418.6666666666667 1229.0,452.0\" fill=\"none\" stroke=\"currentColor\"/>\n",
       "    <text dy=\"1.25em\" style=\"font-size: 0.8em; letter-spacing: 1px\">\n",
       "        <textPath xlink:href=\"#arrow-67130ad416b5436abe7f2a632690bc55-0-5\" class=\"displacy-label\" startOffset=\"50%\" side=\"left\" fill=\"currentColor\" text-anchor=\"middle\">compound</textPath>\n",
       "    </text>\n",
       "    <path class=\"displacy-arrowhead\" d=\"M1062,454.0 L1058,446.0 1066,446.0\" fill=\"currentColor\"/>\n",
       "</g>\n",
       "\n",
       "<g class=\"displacy-arrow\">\n",
       "    <path class=\"displacy-arc\" id=\"arrow-67130ad416b5436abe7f2a632690bc55-0-6\" stroke-width=\"2px\" d=\"M662,452.0 662,418.6666666666667 829.0,418.6666666666667 829.0,452.0\" fill=\"none\" stroke=\"currentColor\"/>\n",
       "    <text dy=\"1.25em\" style=\"font-size: 0.8em; letter-spacing: 1px\">\n",
       "        <textPath xlink:href=\"#arrow-67130ad416b5436abe7f2a632690bc55-0-6\" class=\"displacy-label\" startOffset=\"50%\" side=\"left\" fill=\"currentColor\" text-anchor=\"middle\">case</textPath>\n",
       "    </text>\n",
       "    <path class=\"displacy-arrowhead\" d=\"M662,454.0 L658,446.0 666,446.0\" fill=\"currentColor\"/>\n",
       "</g>\n",
       "\n",
       "<g class=\"displacy-arrow\">\n",
       "    <path class=\"displacy-arc\" id=\"arrow-67130ad416b5436abe7f2a632690bc55-0-7\" stroke-width=\"2px\" d=\"M2962,452.0 2962,352.0 3541.0,352.0 3541.0,452.0\" fill=\"none\" stroke=\"currentColor\"/>\n",
       "    <text dy=\"1.25em\" style=\"font-size: 0.8em; letter-spacing: 1px\">\n",
       "        <textPath xlink:href=\"#arrow-67130ad416b5436abe7f2a632690bc55-0-7\" class=\"displacy-label\" startOffset=\"50%\" side=\"left\" fill=\"currentColor\" text-anchor=\"middle\">obl</textPath>\n",
       "    </text>\n",
       "    <path class=\"displacy-arrowhead\" d=\"M3541.0,454.0 L3545.0,446.0 3537.0,446.0\" fill=\"currentColor\"/>\n",
       "</g>\n",
       "\n",
       "<g class=\"displacy-arrow\">\n",
       "    <path class=\"displacy-arc\" id=\"arrow-67130ad416b5436abe7f2a632690bc55-0-8\" stroke-width=\"2px\" d=\"M1562,452.0 1562,352.0 2141.0,352.0 2141.0,452.0\" fill=\"none\" stroke=\"currentColor\"/>\n",
       "    <text dy=\"1.25em\" style=\"font-size: 0.8em; letter-spacing: 1px\">\n",
       "        <textPath xlink:href=\"#arrow-67130ad416b5436abe7f2a632690bc55-0-8\" class=\"displacy-label\" startOffset=\"50%\" side=\"left\" fill=\"currentColor\" text-anchor=\"middle\">conj</textPath>\n",
       "    </text>\n",
       "    <path class=\"displacy-arrowhead\" d=\"M2141.0,454.0 L2145.0,446.0 2137.0,446.0\" fill=\"currentColor\"/>\n",
       "</g>\n",
       "\n",
       "<g class=\"displacy-arrow\">\n",
       "    <path class=\"displacy-arc\" id=\"arrow-67130ad416b5436abe7f2a632690bc55-0-9\" stroke-width=\"2px\" d=\"M1662,452.0 1662,435.3333333333333 1726.0,435.3333333333333 1726.0,452.0\" fill=\"none\" stroke=\"currentColor\"/>\n",
       "    <text dy=\"1.25em\" style=\"font-size: 0.8em; letter-spacing: 1px\">\n",
       "        <textPath xlink:href=\"#arrow-67130ad416b5436abe7f2a632690bc55-0-9\" class=\"displacy-label\" startOffset=\"50%\" side=\"left\" fill=\"currentColor\" text-anchor=\"middle\">mark</textPath>\n",
       "    </text>\n",
       "    <path class=\"displacy-arrowhead\" d=\"M1662,454.0 L1658,446.0 1666,446.0\" fill=\"currentColor\"/>\n",
       "</g>\n",
       "\n",
       "<g class=\"displacy-arrow\">\n",
       "    <path class=\"displacy-arc\" id=\"arrow-67130ad416b5436abe7f2a632690bc55-0-10\" stroke-width=\"2px\" d=\"M2162,452.0 2162,435.3333333333333 2226.0,435.3333333333333 2226.0,452.0\" fill=\"none\" stroke=\"currentColor\"/>\n",
       "    <text dy=\"1.25em\" style=\"font-size: 0.8em; letter-spacing: 1px\">\n",
       "        <textPath xlink:href=\"#arrow-67130ad416b5436abe7f2a632690bc55-0-10\" class=\"displacy-label\" startOffset=\"50%\" side=\"left\" fill=\"currentColor\" text-anchor=\"middle\">advmod</textPath>\n",
       "    </text>\n",
       "    <path class=\"displacy-arrowhead\" d=\"M2226.0,454.0 L2230.0,446.0 2222.0,446.0\" fill=\"currentColor\"/>\n",
       "</g>\n",
       "\n",
       "<g class=\"displacy-arrow\">\n",
       "    <path class=\"displacy-arc\" id=\"arrow-67130ad416b5436abe7f2a632690bc55-0-11\" stroke-width=\"2px\" d=\"M3462,452.0 3462,435.3333333333333 3526.0,435.3333333333333 3526.0,452.0\" fill=\"none\" stroke=\"currentColor\"/>\n",
       "    <text dy=\"1.25em\" style=\"font-size: 0.8em; letter-spacing: 1px\">\n",
       "        <textPath xlink:href=\"#arrow-67130ad416b5436abe7f2a632690bc55-0-11\" class=\"displacy-label\" startOffset=\"50%\" side=\"left\" fill=\"currentColor\" text-anchor=\"middle\">case</textPath>\n",
       "    </text>\n",
       "    <path class=\"displacy-arrowhead\" d=\"M3462,454.0 L3458,446.0 3466,446.0\" fill=\"currentColor\"/>\n",
       "</g>\n",
       "\n",
       "<g class=\"displacy-arrow\">\n",
       "    <path class=\"displacy-arc\" id=\"arrow-67130ad416b5436abe7f2a632690bc55-0-12\" stroke-width=\"2px\" d=\"M862,452.0 862,385.3333333333333 1235.0,385.3333333333333 1235.0,452.0\" fill=\"none\" stroke=\"currentColor\"/>\n",
       "    <text dy=\"1.25em\" style=\"font-size: 0.8em; letter-spacing: 1px\">\n",
       "        <textPath xlink:href=\"#arrow-67130ad416b5436abe7f2a632690bc55-0-12\" class=\"displacy-label\" startOffset=\"50%\" side=\"left\" fill=\"currentColor\" text-anchor=\"middle\">nmod</textPath>\n",
       "    </text>\n",
       "    <path class=\"displacy-arrowhead\" d=\"M1235.0,454.0 L1239.0,446.0 1231.0,446.0\" fill=\"currentColor\"/>\n",
       "</g>\n",
       "\n",
       "<g class=\"displacy-arrow\">\n",
       "    <path class=\"displacy-arc\" id=\"arrow-67130ad416b5436abe7f2a632690bc55-0-13\" stroke-width=\"2px\" d=\"M2162,452.0 2162,402.0 2432.0,402.0 2432.0,452.0\" fill=\"none\" stroke=\"currentColor\"/>\n",
       "    <text dy=\"1.25em\" style=\"font-size: 0.8em; letter-spacing: 1px\">\n",
       "        <textPath xlink:href=\"#arrow-67130ad416b5436abe7f2a632690bc55-0-13\" class=\"displacy-label\" startOffset=\"50%\" side=\"left\" fill=\"currentColor\" text-anchor=\"middle\">xcomp</textPath>\n",
       "    </text>\n",
       "    <path class=\"displacy-arrowhead\" d=\"M2432.0,454.0 L2436.0,446.0 2428.0,446.0\" fill=\"currentColor\"/>\n",
       "</g>\n",
       "\n",
       "<g class=\"displacy-arrow\">\n",
       "    <path class=\"displacy-arc\" id=\"arrow-67130ad416b5436abe7f2a632690bc55-0-14\" stroke-width=\"2px\" d=\"M1562,452.0 1562,418.6666666666667 1729.0,418.6666666666667 1729.0,452.0\" fill=\"none\" stroke=\"currentColor\"/>\n",
       "    <text dy=\"1.25em\" style=\"font-size: 0.8em; letter-spacing: 1px\">\n",
       "        <textPath xlink:href=\"#arrow-67130ad416b5436abe7f2a632690bc55-0-14\" class=\"displacy-label\" startOffset=\"50%\" side=\"left\" fill=\"currentColor\" text-anchor=\"middle\">xcomp</textPath>\n",
       "    </text>\n",
       "    <path class=\"displacy-arrowhead\" d=\"M1729.0,454.0 L1733.0,446.0 1725.0,446.0\" fill=\"currentColor\"/>\n",
       "</g>\n",
       "\n",
       "<g class=\"displacy-arrow\">\n",
       "    <path class=\"displacy-arc\" id=\"arrow-67130ad416b5436abe7f2a632690bc55-0-15\" stroke-width=\"2px\" d=\"M1362,452.0 1362,418.6666666666667 1529.0,418.6666666666667 1529.0,452.0\" fill=\"none\" stroke=\"currentColor\"/>\n",
       "    <text dy=\"1.25em\" style=\"font-size: 0.8em; letter-spacing: 1px\">\n",
       "        <textPath xlink:href=\"#arrow-67130ad416b5436abe7f2a632690bc55-0-15\" class=\"displacy-label\" startOffset=\"50%\" side=\"left\" fill=\"currentColor\" text-anchor=\"middle\">nsubj</textPath>\n",
       "    </text>\n",
       "    <path class=\"displacy-arrowhead\" d=\"M1362,454.0 L1358,446.0 1366,446.0\" fill=\"currentColor\"/>\n",
       "</g>\n",
       "\n",
       "<g class=\"displacy-arrow\">\n",
       "    <path class=\"displacy-arc\" id=\"arrow-67130ad416b5436abe7f2a632690bc55-0-16\" stroke-width=\"2px\" d=\"M2462,452.0 2462,368.6666666666667 2938.0,368.6666666666667 2938.0,452.0\" fill=\"none\" stroke=\"currentColor\"/>\n",
       "    <text dy=\"1.25em\" style=\"font-size: 0.8em; letter-spacing: 1px\">\n",
       "        <textPath xlink:href=\"#arrow-67130ad416b5436abe7f2a632690bc55-0-16\" class=\"displacy-label\" startOffset=\"50%\" side=\"left\" fill=\"currentColor\" text-anchor=\"middle\">advcl</textPath>\n",
       "    </text>\n",
       "    <path class=\"displacy-arrowhead\" d=\"M2938.0,454.0 L2942.0,446.0 2934.0,446.0\" fill=\"currentColor\"/>\n",
       "</g>\n",
       "\n",
       "<g class=\"displacy-arrow\">\n",
       "    <path class=\"displacy-arc\" id=\"arrow-67130ad416b5436abe7f2a632690bc55-0-17\" stroke-width=\"2px\" d=\"M262,452.0 262,435.3333333333333 326.0,435.3333333333333 326.0,452.0\" fill=\"none\" stroke=\"currentColor\"/>\n",
       "    <text dy=\"1.25em\" style=\"font-size: 0.8em; letter-spacing: 1px\">\n",
       "        <textPath xlink:href=\"#arrow-67130ad416b5436abe7f2a632690bc55-0-17\" class=\"displacy-label\" startOffset=\"50%\" side=\"left\" fill=\"currentColor\" text-anchor=\"middle\">amod</textPath>\n",
       "    </text>\n",
       "    <path class=\"displacy-arrowhead\" d=\"M262,454.0 L258,446.0 266,446.0\" fill=\"currentColor\"/>\n",
       "</g>\n",
       "\n",
       "<g class=\"displacy-arrow\">\n",
       "    <path class=\"displacy-arc\" id=\"arrow-67130ad416b5436abe7f2a632690bc55-0-18\" stroke-width=\"2px\" d=\"M762,452.0 762,435.3333333333333 826.0,435.3333333333333 826.0,452.0\" fill=\"none\" stroke=\"currentColor\"/>\n",
       "    <text dy=\"1.25em\" style=\"font-size: 0.8em; letter-spacing: 1px\">\n",
       "        <textPath xlink:href=\"#arrow-67130ad416b5436abe7f2a632690bc55-0-18\" class=\"displacy-label\" startOffset=\"50%\" side=\"left\" fill=\"currentColor\" text-anchor=\"middle\">det</textPath>\n",
       "    </text>\n",
       "    <path class=\"displacy-arrowhead\" d=\"M762,454.0 L758,446.0 766,446.0\" fill=\"currentColor\"/>\n",
       "</g>\n",
       "\n",
       "<g class=\"displacy-arrow\">\n",
       "    <path class=\"displacy-arc\" id=\"arrow-67130ad416b5436abe7f2a632690bc55-0-19\" stroke-width=\"2px\" d=\"M2462,452.0 2462,318.66666666666663 3747.0,318.66666666666663 3747.0,452.0\" fill=\"none\" stroke=\"currentColor\"/>\n",
       "    <text dy=\"1.25em\" style=\"font-size: 0.8em; letter-spacing: 1px\">\n",
       "        <textPath xlink:href=\"#arrow-67130ad416b5436abe7f2a632690bc55-0-19\" class=\"displacy-label\" startOffset=\"50%\" side=\"left\" fill=\"currentColor\" text-anchor=\"middle\">advcl</textPath>\n",
       "    </text>\n",
       "    <path class=\"displacy-arrowhead\" d=\"M3747.0,454.0 L3751.0,446.0 3743.0,446.0\" fill=\"currentColor\"/>\n",
       "</g>\n",
       "\n",
       "<g class=\"displacy-arrow\">\n",
       "    <path class=\"displacy-arc\" id=\"arrow-67130ad416b5436abe7f2a632690bc55-0-20\" stroke-width=\"2px\" d=\"M1762,452.0 1762,435.3333333333333 1826.0,435.3333333333333 1826.0,452.0\" fill=\"none\" stroke=\"currentColor\"/>\n",
       "    <text dy=\"1.25em\" style=\"font-size: 0.8em; letter-spacing: 1px\">\n",
       "        <textPath xlink:href=\"#arrow-67130ad416b5436abe7f2a632690bc55-0-20\" class=\"displacy-label\" startOffset=\"50%\" side=\"left\" fill=\"currentColor\" text-anchor=\"middle\">obj</textPath>\n",
       "    </text>\n",
       "    <path class=\"displacy-arrowhead\" d=\"M1826.0,454.0 L1830.0,446.0 1822.0,446.0\" fill=\"currentColor\"/>\n",
       "</g>\n",
       "\n",
       "<g class=\"displacy-arrow\">\n",
       "    <path class=\"displacy-arc\" id=\"arrow-67130ad416b5436abe7f2a632690bc55-0-21\" stroke-width=\"2px\" d=\"M2762,452.0 2762,418.6666666666667 2929.0,418.6666666666667 2929.0,452.0\" fill=\"none\" stroke=\"currentColor\"/>\n",
       "    <text dy=\"1.25em\" style=\"font-size: 0.8em; letter-spacing: 1px\">\n",
       "        <textPath xlink:href=\"#arrow-67130ad416b5436abe7f2a632690bc55-0-21\" class=\"displacy-label\" startOffset=\"50%\" side=\"left\" fill=\"currentColor\" text-anchor=\"middle\">nsubj</textPath>\n",
       "    </text>\n",
       "    <path class=\"displacy-arrowhead\" d=\"M2762,454.0 L2758,446.0 2766,446.0\" fill=\"currentColor\"/>\n",
       "</g>\n",
       "\n",
       "<g class=\"displacy-arrow\">\n",
       "    <path class=\"displacy-arc\" id=\"arrow-67130ad416b5436abe7f2a632690bc55-0-22\" stroke-width=\"2px\" d=\"M362,452.0 362,368.6666666666667 838.0,368.6666666666667 838.0,452.0\" fill=\"none\" stroke=\"currentColor\"/>\n",
       "    <text dy=\"1.25em\" style=\"font-size: 0.8em; letter-spacing: 1px\">\n",
       "        <textPath xlink:href=\"#arrow-67130ad416b5436abe7f2a632690bc55-0-22\" class=\"displacy-label\" startOffset=\"50%\" side=\"left\" fill=\"currentColor\" text-anchor=\"middle\">nmod</textPath>\n",
       "    </text>\n",
       "    <path class=\"displacy-arrowhead\" d=\"M838.0,454.0 L842.0,446.0 834.0,446.0\" fill=\"currentColor\"/>\n",
       "</g>\n",
       "\n",
       "<g class=\"displacy-arrow\">\n",
       "    <path class=\"displacy-arc\" id=\"arrow-67130ad416b5436abe7f2a632690bc55-0-23\" stroke-width=\"2px\" d=\"M162,452.0 162,418.6666666666667 329.0,418.6666666666667 329.0,452.0\" fill=\"none\" stroke=\"currentColor\"/>\n",
       "    <text dy=\"1.25em\" style=\"font-size: 0.8em; letter-spacing: 1px\">\n",
       "        <textPath xlink:href=\"#arrow-67130ad416b5436abe7f2a632690bc55-0-23\" class=\"displacy-label\" startOffset=\"50%\" side=\"left\" fill=\"currentColor\" text-anchor=\"middle\">case</textPath>\n",
       "    </text>\n",
       "    <path class=\"displacy-arrowhead\" d=\"M162,454.0 L158,446.0 166,446.0\" fill=\"currentColor\"/>\n",
       "</g>\n",
       "\n",
       "<g class=\"displacy-arrow\">\n",
       "    <path class=\"displacy-arc\" id=\"arrow-67130ad416b5436abe7f2a632690bc55-0-24\" stroke-width=\"2px\" d=\"M1962,452.0 1962,418.6666666666667 2129.0,418.6666666666667 2129.0,452.0\" fill=\"none\" stroke=\"currentColor\"/>\n",
       "    <text dy=\"1.25em\" style=\"font-size: 0.8em; letter-spacing: 1px\">\n",
       "        <textPath xlink:href=\"#arrow-67130ad416b5436abe7f2a632690bc55-0-24\" class=\"displacy-label\" startOffset=\"50%\" side=\"left\" fill=\"currentColor\" text-anchor=\"middle\">punct</textPath>\n",
       "    </text>\n",
       "    <path class=\"displacy-arrowhead\" d=\"M1962,454.0 L1958,446.0 1966,446.0\" fill=\"currentColor\"/>\n",
       "</g>\n",
       "\n",
       "<g class=\"displacy-arrow\">\n",
       "    <path class=\"displacy-arc\" id=\"arrow-67130ad416b5436abe7f2a632690bc55-0-25\" stroke-width=\"2px\" d=\"M2362,452.0 2362,435.3333333333333 2426.0,435.3333333333333 2426.0,452.0\" fill=\"none\" stroke=\"currentColor\"/>\n",
       "    <text dy=\"1.25em\" style=\"font-size: 0.8em; letter-spacing: 1px\">\n",
       "        <textPath xlink:href=\"#arrow-67130ad416b5436abe7f2a632690bc55-0-25\" class=\"displacy-label\" startOffset=\"50%\" side=\"left\" fill=\"currentColor\" text-anchor=\"middle\">mark</textPath>\n",
       "    </text>\n",
       "    <path class=\"displacy-arrowhead\" d=\"M2362,454.0 L2358,446.0 2366,446.0\" fill=\"currentColor\"/>\n",
       "</g>\n",
       "\n",
       "<g class=\"displacy-arrow\">\n",
       "    <path class=\"displacy-arc\" id=\"arrow-67130ad416b5436abe7f2a632690bc55-0-26\" stroke-width=\"2px\" d=\"M2062,452.0 2062,435.3333333333333 2126.0,435.3333333333333 2126.0,452.0\" fill=\"none\" stroke=\"currentColor\"/>\n",
       "    <text dy=\"1.25em\" style=\"font-size: 0.8em; letter-spacing: 1px\">\n",
       "        <textPath xlink:href=\"#arrow-67130ad416b5436abe7f2a632690bc55-0-26\" class=\"displacy-label\" startOffset=\"50%\" side=\"left\" fill=\"currentColor\" text-anchor=\"middle\">cc</textPath>\n",
       "    </text>\n",
       "    <path class=\"displacy-arrowhead\" d=\"M2062,454.0 L2058,446.0 2066,446.0\" fill=\"currentColor\"/>\n",
       "</g>\n",
       "\n",
       "<g class=\"displacy-arrow\">\n",
       "    <path class=\"displacy-arc\" id=\"arrow-67130ad416b5436abe7f2a632690bc55-0-27\" stroke-width=\"2px\" d=\"M3662,452.0 3662,435.3333333333333 3726.0,435.3333333333333 3726.0,452.0\" fill=\"none\" stroke=\"currentColor\"/>\n",
       "    <text dy=\"1.25em\" style=\"font-size: 0.8em; letter-spacing: 1px\">\n",
       "        <textPath xlink:href=\"#arrow-67130ad416b5436abe7f2a632690bc55-0-27\" class=\"displacy-label\" startOffset=\"50%\" side=\"left\" fill=\"currentColor\" text-anchor=\"middle\">mark</textPath>\n",
       "    </text>\n",
       "    <path class=\"displacy-arrowhead\" d=\"M3662,454.0 L3658,446.0 3666,446.0\" fill=\"currentColor\"/>\n",
       "</g>\n",
       "\n",
       "<g class=\"displacy-arrow\">\n",
       "    <path class=\"displacy-arc\" id=\"arrow-67130ad416b5436abe7f2a632690bc55-0-28\" stroke-width=\"2px\" d=\"M2662,452.0 2662,402.0 2932.0,402.0 2932.0,452.0\" fill=\"none\" stroke=\"currentColor\"/>\n",
       "    <text dy=\"1.25em\" style=\"font-size: 0.8em; letter-spacing: 1px\">\n",
       "        <textPath xlink:href=\"#arrow-67130ad416b5436abe7f2a632690bc55-0-28\" class=\"displacy-label\" startOffset=\"50%\" side=\"left\" fill=\"currentColor\" text-anchor=\"middle\">mark</textPath>\n",
       "    </text>\n",
       "    <path class=\"displacy-arrowhead\" d=\"M2662,454.0 L2658,446.0 2666,446.0\" fill=\"currentColor\"/>\n",
       "</g>\n",
       "\n",
       "<g class=\"displacy-arrow\">\n",
       "    <path class=\"displacy-arc\" id=\"arrow-67130ad416b5436abe7f2a632690bc55-0-29\" stroke-width=\"2px\" d=\"M1562,452.0 1562,302.0 3850.0,302.0 3850.0,452.0\" fill=\"none\" stroke=\"currentColor\"/>\n",
       "    <text dy=\"1.25em\" style=\"font-size: 0.8em; letter-spacing: 1px\">\n",
       "        <textPath xlink:href=\"#arrow-67130ad416b5436abe7f2a632690bc55-0-29\" class=\"displacy-label\" startOffset=\"50%\" side=\"left\" fill=\"currentColor\" text-anchor=\"middle\">punct</textPath>\n",
       "    </text>\n",
       "    <path class=\"displacy-arrowhead\" d=\"M3850.0,454.0 L3854.0,446.0 3846.0,446.0\" fill=\"currentColor\"/>\n",
       "</g>\n",
       "\n",
       "<g class=\"displacy-arrow\">\n",
       "    <path class=\"displacy-arc\" id=\"arrow-67130ad416b5436abe7f2a632690bc55-0-30\" stroke-width=\"2px\" d=\"M2462,452.0 2462,435.3333333333333 2526.0,435.3333333333333 2526.0,452.0\" fill=\"none\" stroke=\"currentColor\"/>\n",
       "    <text dy=\"1.25em\" style=\"font-size: 0.8em; letter-spacing: 1px\">\n",
       "        <textPath xlink:href=\"#arrow-67130ad416b5436abe7f2a632690bc55-0-30\" class=\"displacy-label\" startOffset=\"50%\" side=\"left\" fill=\"currentColor\" text-anchor=\"middle\">obj</textPath>\n",
       "    </text>\n",
       "    <path class=\"displacy-arrowhead\" d=\"M2526.0,454.0 L2530.0,446.0 2522.0,446.0\" fill=\"currentColor\"/>\n",
       "</g>\n",
       "\n",
       "<g class=\"displacy-arrow\">\n",
       "    <path class=\"displacy-arc\" id=\"arrow-67130ad416b5436abe7f2a632690bc55-0-31\" stroke-width=\"2px\" d=\"M3162,452.0 3162,418.6666666666667 3329.0,418.6666666666667 3329.0,452.0\" fill=\"none\" stroke=\"currentColor\"/>\n",
       "    <text dy=\"1.25em\" style=\"font-size: 0.8em; letter-spacing: 1px\">\n",
       "        <textPath xlink:href=\"#arrow-67130ad416b5436abe7f2a632690bc55-0-31\" class=\"displacy-label\" startOffset=\"50%\" side=\"left\" fill=\"currentColor\" text-anchor=\"middle\">amod</textPath>\n",
       "    </text>\n",
       "    <path class=\"displacy-arrowhead\" d=\"M3162,454.0 L3158,446.0 3166,446.0\" fill=\"currentColor\"/>\n",
       "</g>\n",
       "\n",
       "<g class=\"displacy-arrow\">\n",
       "    <path class=\"displacy-arc\" id=\"arrow-67130ad416b5436abe7f2a632690bc55-0-32\" stroke-width=\"2px\" d=\"M362,452.0 362,335.3333333333333 1544.0,335.3333333333333 1544.0,452.0\" fill=\"none\" stroke=\"currentColor\"/>\n",
       "    <text dy=\"1.25em\" style=\"font-size: 0.8em; letter-spacing: 1px\">\n",
       "        <textPath xlink:href=\"#arrow-67130ad416b5436abe7f2a632690bc55-0-32\" class=\"displacy-label\" startOffset=\"50%\" side=\"left\" fill=\"currentColor\" text-anchor=\"middle\">obl</textPath>\n",
       "    </text>\n",
       "    <path class=\"displacy-arrowhead\" d=\"M362,454.0 L358,446.0 366,446.0\" fill=\"currentColor\"/>\n",
       "</g>\n",
       "\n",
       "<g class=\"displacy-arrow\">\n",
       "    <path class=\"displacy-arc\" id=\"arrow-67130ad416b5436abe7f2a632690bc55-0-33\" stroke-width=\"2px\" d=\"M462,452.0 462,435.3333333333333 526.0,435.3333333333333 526.0,452.0\" fill=\"none\" stroke=\"currentColor\"/>\n",
       "    <text dy=\"1.25em\" style=\"font-size: 0.8em; letter-spacing: 1px\">\n",
       "        <textPath xlink:href=\"#arrow-67130ad416b5436abe7f2a632690bc55-0-33\" class=\"displacy-label\" startOffset=\"50%\" side=\"left\" fill=\"currentColor\" text-anchor=\"middle\">case</textPath>\n",
       "    </text>\n",
       "    <path class=\"displacy-arrowhead\" d=\"M462,454.0 L458,446.0 466,446.0\" fill=\"currentColor\"/>\n",
       "</g>\n",
       "\n",
       "<g class=\"displacy-arrow\">\n",
       "    <path class=\"displacy-arc\" id=\"arrow-67130ad416b5436abe7f2a632690bc55-0-34\" stroke-width=\"2px\" d=\"M3262,452.0 3262,435.3333333333333 3326.0,435.3333333333333 3326.0,452.0\" fill=\"none\" stroke=\"currentColor\"/>\n",
       "    <text dy=\"1.25em\" style=\"font-size: 0.8em; letter-spacing: 1px\">\n",
       "        <textPath xlink:href=\"#arrow-67130ad416b5436abe7f2a632690bc55-0-34\" class=\"displacy-label\" startOffset=\"50%\" side=\"left\" fill=\"currentColor\" text-anchor=\"middle\">nummod</textPath>\n",
       "    </text>\n",
       "    <path class=\"displacy-arrowhead\" d=\"M3262,454.0 L3258,446.0 3266,446.0\" fill=\"currentColor\"/>\n",
       "</g>\n",
       "\n",
       "<g class=\"displacy-arrow\">\n",
       "    <path class=\"displacy-arc\" id=\"arrow-67130ad416b5436abe7f2a632690bc55-0-35\" stroke-width=\"2px\" d=\"M962,452.0 962,402.0 1232.0,402.0 1232.0,452.0\" fill=\"none\" stroke=\"currentColor\"/>\n",
       "    <text dy=\"1.25em\" style=\"font-size: 0.8em; letter-spacing: 1px\">\n",
       "        <textPath xlink:href=\"#arrow-67130ad416b5436abe7f2a632690bc55-0-35\" class=\"displacy-label\" startOffset=\"50%\" side=\"left\" fill=\"currentColor\" text-anchor=\"middle\">case</textPath>\n",
       "    </text>\n",
       "    <path class=\"displacy-arrowhead\" d=\"M962,454.0 L958,446.0 966,446.0\" fill=\"currentColor\"/>\n",
       "</g>\n",
       "\n",
       "<g class=\"displacy-arrow\">\n",
       "    <path class=\"displacy-arc\" id=\"arrow-67130ad416b5436abe7f2a632690bc55-0-36\" stroke-width=\"2px\" d=\"M2862,452.0 2862,435.3333333333333 2926.0,435.3333333333333 2926.0,452.0\" fill=\"none\" stroke=\"currentColor\"/>\n",
       "    <text dy=\"1.25em\" style=\"font-size: 0.8em; letter-spacing: 1px\">\n",
       "        <textPath xlink:href=\"#arrow-67130ad416b5436abe7f2a632690bc55-0-36\" class=\"displacy-label\" startOffset=\"50%\" side=\"left\" fill=\"currentColor\" text-anchor=\"middle\">aux</textPath>\n",
       "    </text>\n",
       "    <path class=\"displacy-arrowhead\" d=\"M2862,454.0 L2858,446.0 2866,446.0\" fill=\"currentColor\"/>\n",
       "</g>\n",
       "</svg></span>"
      ],
      "text/plain": [
       "<IPython.core.display.HTML object>"
      ]
     },
     "metadata": {},
     "output_type": "display_data"
    }
   ],
   "source": [
    "# debug example\n",
    "g2 = all_indicative_graphs[\"ud\"][\"device\"][0]\n",
    "nxg = to_nx(g2)\n",
    "e = list(g2.edges)[0]\n",
    "# print(g2.input)\n",
    "# print([n.id for n in g2.nodes])\n",
    "# print([e for e in nxg.edges])\n",
    "# directed_path_length(to_nx(g2))\n",
    "def shortest_path_length(source, target) -> Union[int, None]:\n",
    "    try:\n",
    "        return nx.shortest_path_length(nxg, source=source, target=target)\n",
    "    except NetworkXNoPath:\n",
    "        return None\n",
    "n=g2.nodes[14]\n",
    "print(n.id, n.label, n.opinion_term)\n",
    "n=nxg.nodes[14]\n",
    "print(n['id'], n['label'], n['opinion_term'])\n",
    "print(nxg.opinion_spans)\n",
    "try:\n",
    "    print(nx.shortest_path(nxg, source=15, target=13))\n",
    "except NetworkXNoPath:\n",
    "    print(\"no path\")\n",
    "display_absa_graph(g2)"
   ]
  },
  {
   "cell_type": "code",
   "execution_count": 104,
   "metadata": {},
   "outputs": [],
   "source": [
    "# compute average directed path length per formalism per domain. \n",
    "mean_directed_path_length = defaultdict(dict)\n",
    "count_is_directed_path = defaultdict(dict)\n",
    "count_indicative_graphs = defaultdict(dict)\n",
    "for formalism in formalisms:\n",
    "    for domain in domains:\n",
    "        shortest_paths = [directed_path_length(to_nx(g)) \n",
    "                          for g in all_indicative_graphs[formalism][domain]]\n",
    "        count_indicative_graphs[formalism][domain] = len(all_indicative_graphs[formalism][domain])\n",
    "        mean_directed_path_length[formalism][domain] = filtered_f(shortest_paths, np.mean)\n",
    "        count_is_directed_path[formalism][domain] = filtered_f(shortest_paths, len)"
   ]
  },
  {
   "cell_type": "markdown",
   "metadata": {},
   "source": [
    "#### Results"
   ]
  },
  {
   "cell_type": "code",
   "execution_count": 105,
   "metadata": {},
   "outputs": [
    {
     "name": "stdout",
     "output_type": "stream",
     "text": [
      "#-Graphs for analysis (single AT & single OT):\n"
     ]
    },
    {
     "data": {
      "text/html": [
       "<table>\n",
       "<tbody>\n",
       "<tr><td>-   </td><td>device</td><td>restaurants</td><td>laptops</td><td>mean </td></tr>\n",
       "<tr><td>clir</td><td>551   </td><td>1291       </td><td>609    </td><td>817.0</td></tr>\n",
       "<tr><td>ud  </td><td>551   </td><td>1291       </td><td>609    </td><td>817.0</td></tr>\n",
       "<tr><td>dm  </td><td>551   </td><td>1291       </td><td>609    </td><td>817.0</td></tr>\n",
       "<tr><td>psd </td><td>551   </td><td>1291       </td><td>609    </td><td>817.0</td></tr>\n",
       "</tbody>\n",
       "</table>"
      ],
      "text/plain": [
       "<IPython.core.display.HTML object>"
      ]
     },
     "metadata": {},
     "output_type": "display_data"
    },
    {
     "name": "stdout",
     "output_type": "stream",
     "text": [
      "#-Graphs that have a directed path AT~~>OT or OT~~>AT:\n"
     ]
    },
    {
     "data": {
      "text/html": [
       "<table>\n",
       "<tbody>\n",
       "<tr><td>-   </td><td>device</td><td>restaurants</td><td>laptops</td><td>mean             </td></tr>\n",
       "<tr><td>clir</td><td>225   </td><td>563        </td><td>286    </td><td>358.0            </td></tr>\n",
       "<tr><td>ud  </td><td>404   </td><td>1001       </td><td>461    </td><td>622.0            </td></tr>\n",
       "<tr><td>dm  </td><td>392   </td><td>898        </td><td>378    </td><td>556.0            </td></tr>\n",
       "<tr><td>psd </td><td>200   </td><td>558        </td><td>263    </td><td>340.3333333333333</td></tr>\n",
       "</tbody>\n",
       "</table>"
      ],
      "text/plain": [
       "<IPython.core.display.HTML object>"
      ]
     },
     "metadata": {},
     "output_type": "display_data"
    },
    {
     "name": "stdout",
     "output_type": "stream",
     "text": [
      "Mean of shortest path length between AT and OT (if exists):\n"
     ]
    },
    {
     "data": {
      "text/html": [
       "<table>\n",
       "<tbody>\n",
       "<tr><td>-   </td><td>device            </td><td>restaurants       </td><td>laptops           </td><td>mean              </td></tr>\n",
       "<tr><td>clir</td><td>1.3244444444444445</td><td>1.355239786856128 </td><td>1.472027972027972 </td><td>1.3839040677761816</td></tr>\n",
       "<tr><td>ud  </td><td>1.1633663366336633</td><td>1.1378621378621379</td><td>1.2559652928416485</td><td>1.1857312557791497</td></tr>\n",
       "<tr><td>dm  </td><td>1.125             </td><td>1.0846325167037862</td><td>1.164021164021164 </td><td>1.1245512269083167</td></tr>\n",
       "<tr><td>psd </td><td>1.165             </td><td>1.1881720430107527</td><td>1.2357414448669202</td><td>1.1963044959592244</td></tr>\n",
       "</tbody>\n",
       "</table>"
      ],
      "text/plain": [
       "<IPython.core.display.HTML object>"
      ]
     },
     "metadata": {},
     "output_type": "display_data"
    }
   ],
   "source": [
    "# display results in tables\n",
    "print(\"#-Graphs for analysis (single AT & single OT):\")\n",
    "display_ndict(count_indicative_graphs)\n",
    "print(\"#-Graphs that have a directed path AT~~>OT or OT~~>AT:\")\n",
    "display_ndict(count_is_directed_path)\n",
    "print(\"Mean of shortest path length between AT and OT (if exists):\")\n",
    "display_ndict(mean_directed_path_length)\n"
   ]
  },
  {
   "cell_type": "markdown",
   "metadata": {},
   "source": [
    "## Compute average **undirected** path length between AT and OT"
   ]
  },
  {
   "cell_type": "code",
   "execution_count": 106,
   "metadata": {},
   "outputs": [],
   "source": [
    "def undirected_path_length(nxg: nx.DiGraph):\n",
    "    nxug = nxg.to_undirected()\n",
    "    def shortest_path_length(source, target) -> Union[int, None]:\n",
    "        try:\n",
    "            return nx.shortest_path_length(nxug, source=source, target=target)\n",
    "        except NetworkXNoPath:\n",
    "            return None\n",
    "        \n",
    "    # Return the minimum path length between an OT token and an AT token (AT<~~>OT)\n",
    "    path_lengths = [shortest_path_length(source_tokid, target_tokid)\n",
    "                    for source_tokid in range(*nxg.opinion_spans[0])\n",
    "                    for target_tokid in range(*nxg.aspect_spans[0])]\n",
    "    return filtered_f(path_lengths, min)\n",
    "\n",
    "# compute average undirected path length per formalism per domain. \n",
    "mean_undirected_path_length = defaultdict(dict)\n",
    "count_is_undirected_path = defaultdict(dict)\n",
    "for formalism in formalisms:\n",
    "    for domain in domains:\n",
    "        shortest_paths = [undirected_path_length(to_nx(g)) \n",
    "                          for g in all_indicative_graphs[formalism][domain]]\n",
    "        mean_undirected_path_length[formalism][domain] = filtered_f(shortest_paths, np.mean)\n",
    "        count_is_undirected_path[formalism][domain] = filtered_f(shortest_paths, len)"
   ]
  },
  {
   "cell_type": "code",
   "execution_count": 107,
   "metadata": {},
   "outputs": [
    {
     "name": "stdout",
     "output_type": "stream",
     "text": [
      "#-Graphs for analysis (single AT & single OT):\n"
     ]
    },
    {
     "data": {
      "text/html": [
       "<table>\n",
       "<tbody>\n",
       "<tr><td>-   </td><td>device</td><td>restaurants</td><td>laptops</td><td>mean </td></tr>\n",
       "<tr><td>clir</td><td>551   </td><td>1291       </td><td>609    </td><td>817.0</td></tr>\n",
       "<tr><td>ud  </td><td>551   </td><td>1291       </td><td>609    </td><td>817.0</td></tr>\n",
       "<tr><td>dm  </td><td>551   </td><td>1291       </td><td>609    </td><td>817.0</td></tr>\n",
       "<tr><td>psd </td><td>551   </td><td>1291       </td><td>609    </td><td>817.0</td></tr>\n",
       "</tbody>\n",
       "</table>"
      ],
      "text/plain": [
       "<IPython.core.display.HTML object>"
      ]
     },
     "metadata": {},
     "output_type": "display_data"
    },
    {
     "name": "stdout",
     "output_type": "stream",
     "text": [
      "#-Graphs that have an undirected path AT<~~>OT:\n"
     ]
    },
    {
     "data": {
      "text/html": [
       "<table>\n",
       "<tbody>\n",
       "<tr><td>-   </td><td>device</td><td>restaurants</td><td>laptops</td><td>mean             </td></tr>\n",
       "<tr><td>clir</td><td>551   </td><td>1291       </td><td>609    </td><td>817.0            </td></tr>\n",
       "<tr><td>ud  </td><td>551   </td><td>1291       </td><td>609    </td><td>817.0            </td></tr>\n",
       "<tr><td>dm  </td><td>543   </td><td>1264       </td><td>592    </td><td>799.6666666666666</td></tr>\n",
       "<tr><td>psd </td><td>545   </td><td>1279       </td><td>593    </td><td>805.6666666666666</td></tr>\n",
       "</tbody>\n",
       "</table>"
      ],
      "text/plain": [
       "<IPython.core.display.HTML object>"
      ]
     },
     "metadata": {},
     "output_type": "display_data"
    },
    {
     "name": "stdout",
     "output_type": "stream",
     "text": [
      "Mean of shortest undirected path length between AT and OT (if exists):\n"
     ]
    },
    {
     "data": {
      "text/html": [
       "<table>\n",
       "<tbody>\n",
       "<tr><td>-   </td><td>device            </td><td>restaurants       </td><td>laptops           </td><td>mean              </td></tr>\n",
       "<tr><td>clir</td><td>2.17967332123412  </td><td>2.107668474051123 </td><td>2.2807881773399017</td><td>2.189376657541715 </td></tr>\n",
       "<tr><td>ud  </td><td>1.571687840290381 </td><td>1.4833462432223083</td><td>1.6502463054187193</td><td>1.5684267963104694</td></tr>\n",
       "<tr><td>dm  </td><td>1.714548802946593 </td><td>1.696993670886076 </td><td>1.9611486486486487</td><td>1.7908970408271057</td></tr>\n",
       "<tr><td>psd </td><td>2.0605504587155963</td><td>1.9632525410476935</td><td>2.0590219224283306</td><td>2.0276083073972067</td></tr>\n",
       "</tbody>\n",
       "</table>"
      ],
      "text/plain": [
       "<IPython.core.display.HTML object>"
      ]
     },
     "metadata": {},
     "output_type": "display_data"
    }
   ],
   "source": [
    "# display results in tables\n",
    "print(\"#-Graphs for analysis (single AT & single OT):\")\n",
    "display_ndict(count_indicative_graphs)\n",
    "print(\"#-Graphs that have an undirected path AT<~~>OT:\")\n",
    "display_ndict(count_is_undirected_path)\n",
    "print(\"Mean of shortest undirected path length between AT and OT (if exists):\")\n",
    "display_ndict(mean_undirected_path_length)\n"
   ]
  },
  {
   "cell_type": "code",
   "execution_count": 108,
   "metadata": {},
   "outputs": [
    {
     "name": "stdout",
     "output_type": "stream",
     "text": [
      "609\n",
      "Easy to start up and does not overheat as much as other laptops .\n",
      "['easy', 'to', 'start', 'up', 'and', 'does', 'not', 'burn', 'as', 'much', 'as', 'other', 'laptop', 'non']\n",
      "[[{'from': 0, 'to': 4}], [{'from': 5, 'to': 7}], [{'from': 8, 'to': 13}], [{'from': 14, 'to': 16}], [{'from': 17, 'to': 20}], [{'from': 21, 'to': 25}], [{'from': 26, 'to': 29}], [{'from': 30, 'to': 38}], [{'from': 39, 'to': 41}], [{'from': 42, 'to': 46}], [{'from': 47, 'to': 49}], [{'from': 50, 'to': 55}], [{'from': 56, 'to': 63}], [{'from': 64, 'to': 65}]]\n"
     ]
    }
   ],
   "source": [
    "## debug undirected UD graphs --- there should be an undirected path between any two tokens in UD!\n",
    "no_ud_undir_path_graphs = [g for g in all_indicative_graphs[\"dm\"][\"laptops\"] if undirected_path_length(to_nx(g))!=20 ]\n",
    "print(len(no_ud_undir_path_graphs))\n",
    "g=no_ud_undir_path_graphs[0]\n",
    "print(g.input)\n",
    "# g.displacy(jupyter=True)\n",
    "nxug = to_nx(g).to_undirected()\n",
    "print([n['label'] for i,n in nxug.nodes.data()])\n",
    "print([n.anchors for n in g.nodes])\n",
    "\n"
   ]
  },
  {
   "cell_type": "markdown",
   "metadata": {},
   "source": [
    "## Path Patterns\n",
    "Analyze the path-patterns between OT and AT.\n",
    "\n",
    "Let's support several kinds of path-patterns:\n",
    "\n",
    "* A `deplbl` path-pattern would be a list of dependecy labels in the path, where `OT` and `AT` are marked in the begin & end of path (by directionality), and other nodes are hidden. E.g. `[AT, dobj, *, nsubjpass, OT]`.\n",
    "* A `pos-deplbl` path-pattern would be a list of node's- POS and dependecy labels in the path, where `OT` and `AT` are marked instead of POS in the begin & end of path. E.g. `[AT, dobj, NN, nsubjpass, OT]`.  \n",
    "\n",
    "Then, we will compute frequency distributions of these patterns, and find the most common ones.\n",
    "We will also compute similarity between distributions of different domains, to assess domain-abstraction.\n"
   ]
  },
  {
   "cell_type": "markdown",
   "metadata": {},
   "source": [
    "### Produce `deplbl` path-patterns"
   ]
  },
  {
   "cell_type": "code",
   "execution_count": 109,
   "metadata": {},
   "outputs": [],
   "source": [
    "def deplbl_path_pattern(nxg: nx.DiGraph) -> Union[List[str], None]:\n",
    "    \"\"\" \n",
    "    Return the deplbl path-pettern of the shortest OT~~AT path in the graph. \n",
    "    Return None if no directed OT~~AT path exists.\n",
    "    \"\"\"\n",
    "    def shortest_path(source, target) -> Union[List[int], None]:\n",
    "        try:\n",
    "            return nx.shortest_path(nxg, source=source, target=target)\n",
    "        except NetworkXNoPath:\n",
    "            return None\n",
    "        \n",
    "    # Return the minimum path length between an OT token and an AT token (either AT~~>OT or OT~~>AT)\n",
    "    OT2AT_paths = [shortest_path(source_tokid, target_tokid) \n",
    "                          for source_tokid in range(*nxg.opinion_spans[0])\n",
    "                          for target_tokid in range(*nxg.aspect_spans[0])]\n",
    "    AT2OT_paths = [shortest_path(source_tokid, target_tokid) \n",
    "                          for source_tokid in range(*nxg.aspect_spans[0])\n",
    "                          for target_tokid in range(*nxg.opinion_spans[0])]\n",
    "    tok_paths = filtered(OT2AT_paths + AT2OT_paths)\n",
    "    if not tok_paths:\n",
    "        return None\n",
    "    shortest_ATOT_path = sorted(tok_paths, key=len)[0]\n",
    "    \n",
    "    def node_repr(node_id: int) -> str: \n",
    "        \"\"\" for `deplbl` patterns, only state whether it is an AT or OT onde\"\"\"\n",
    "        if nxg.g.nodes[node_id].opinion_term: return \"OT\"\n",
    "        elif nxg.g.nodes[node_id].aspect_term: return \"AT\"\n",
    "        else: return \"*\"\n",
    "    def edge_repr(u: int, v: int) -> str:\n",
    "        \"\"\" return dependency-label. \"\"\"\n",
    "        return nxg.edges[(u,v)]['lab']\n",
    "    \n",
    "    def nxpath_to_path_pattern(path) -> List[str]:\n",
    "        \"\"\" Generate path-pattern from nx.path. \"\"\"\n",
    "        if not path:\n",
    "            return path\n",
    "        pattern = [node_repr(path[0])] # first node\n",
    "        # iteratively add <edge>, <node> from path\n",
    "        for i in range(1, len(path)):\n",
    "            pattern.append(edge_repr(path[i-1], path[i]))\n",
    "            pattern.append(node_repr(path[i]))\n",
    "        return pattern\n",
    "        \n",
    "    return nxpath_to_path_pattern(shortest_ATOT_path)\n"
   ]
  },
  {
   "cell_type": "code",
   "execution_count": 110,
   "metadata": {},
   "outputs": [
    {
     "data": {
      "text/html": [
       "<table>\n",
       "<tbody>\n",
       "<tr><td>-   </td><td>device                                                                                                                                                                                                                                                                                                                                                                                </td><td>restaurants                                                                                                                                                                                                                                                                                                                                                                               </td><td>laptops                                                                                                                                                                                                                                                                                                                                                          </td></tr>\n",
       "<tr><td>clir</td><td>[(&quot;[&#x27;*&#x27;, &#x27;amod&#x27;, &#x27;AT&#x27;]&quot;, 94), (&quot;[&#x27;*&#x27;, &#x27;dobj&#x27;, &#x27;*&#x27;]&quot;, 21), (&quot;[&#x27;*&#x27;, &#x27;prep&#x27;, &#x27;*&#x27;, &#x27;pobj&#x27;, &#x27;*&#x27;]&quot;, 16), (&quot;[&#x27;*&#x27;, &#x27;nsubj&#x27;, &#x27;*&#x27;]&quot;, 10), (&quot;[&#x27;*&#x27;, &#x27;nsubj&#x27;, &#x27;OT&#x27;]&quot;, 9), (&quot;[&#x27;*&#x27;, &#x27;amod&#x27;, &#x27;*&#x27;]&quot;, 8), (&quot;[&#x27;AT&#x27;, &#x27;amod&#x27;, &#x27;AT&#x27;]&quot;, 5), (&quot;[&#x27;*&#x27;, &#x27;xcomp&#x27;, &#x27;*&#x27;]&quot;, 5), (&quot;[&#x27;OT&#x27;, &#x27;acomp&#x27;, &#x27;*&#x27;]&quot;, 4), (&quot;[&#x27;*&#x27;, &#x27;relcl&#x27;, &#x27;OT&#x27;, &#x27;acomp&#x27;, &#x27;*&#x27;]&quot;, 4)]                                                              </td><td>[(&quot;[&#x27;*&#x27;, &#x27;amod&#x27;, &#x27;AT&#x27;]&quot;, 262), (&quot;[&#x27;*&#x27;, &#x27;dobj&#x27;, &#x27;*&#x27;]&quot;, 50), (&quot;[&#x27;*&#x27;, &#x27;prep&#x27;, &#x27;*&#x27;, &#x27;pobj&#x27;, &#x27;*&#x27;]&quot;, 34), (&quot;[&#x27;AT&#x27;, &#x27;amod&#x27;, &#x27;AT&#x27;]&quot;, 16), (&quot;[&#x27;*&#x27;, &#x27;relcl&#x27;, &#x27;OT&#x27;, &#x27;acomp&#x27;, &#x27;*&#x27;]&quot;, 14), (&quot;[&#x27;AT&#x27;, &#x27;dobj&#x27;, &#x27;*&#x27;]&quot;, 12), (&quot;[&#x27;*&#x27;, &#x27;amod&#x27;, &#x27;*&#x27;]&quot;, 12), (&quot;[&#x27;*&#x27;, &#x27;nsubj&#x27;, &#x27;OT&#x27;]&quot;, 10), (&quot;[&#x27;*&#x27;, &#x27;compound&#x27;, &#x27;AT&#x27;]&quot;, 9), (&quot;[&#x27;*&#x27;, &#x27;nsubjpass&#x27;, &#x27;*&#x27;]&quot;, 8)]                                                      </td><td>[(&quot;[&#x27;*&#x27;, &#x27;amod&#x27;, &#x27;AT&#x27;]&quot;, 57), (&quot;[&#x27;*&#x27;, &#x27;prep&#x27;, &#x27;*&#x27;, &#x27;pobj&#x27;, &#x27;*&#x27;]&quot;, 18), (&quot;[&#x27;*&#x27;, &#x27;dobj&#x27;, &#x27;*&#x27;]&quot;, 18), (&quot;[&#x27;*&#x27;, &#x27;nsubj&#x27;, &#x27;OT&#x27;]&quot;, 12), (&quot;[&#x27;*&#x27;, &#x27;nsubj&#x27;, &#x27;*&#x27;]&quot;, 10), (&quot;[&#x27;*&#x27;, &#x27;xcomp&#x27;, &#x27;*&#x27;]&quot;, 10), (&quot;[&#x27;*&#x27;, &#x27;prep&#x27;, &#x27;AT&#x27;, &#x27;pobj&#x27;, &#x27;*&#x27;]&quot;, 9), (&quot;[&#x27;*&#x27;, &#x27;advmod&#x27;, &#x27;*&#x27;]&quot;, 9), (&quot;[&#x27;*&#x27;, &#x27;nsubjpass&#x27;, &#x27;*&#x27;]&quot;, 8), (&quot;[&#x27;AT&#x27;, &#x27;pobj&#x27;, &#x27;*&#x27;]&quot;, 7)]                                     </td></tr>\n",
       "<tr><td>ud  </td><td>[(&quot;[&#x27;*&#x27;, &#x27;nsubj&#x27;, &#x27;*&#x27;]&quot;, 154), (&quot;[&#x27;*&#x27;, &#x27;amod&#x27;, &#x27;AT&#x27;]&quot;, 92), (&quot;[&#x27;*&#x27;, &#x27;obj&#x27;, &#x27;*&#x27;]&quot;, 20), (&quot;[&#x27;*&#x27;, &#x27;obl&#x27;, &#x27;*&#x27;]&quot;, 15), (&quot;[&#x27;*&#x27;, &#x27;advcl&#x27;, &#x27;*&#x27;]&quot;, 6), (&quot;[&#x27;*&#x27;, &#x27;nsubj&#x27;, &#x27;*&#x27;, &#x27;nmod&#x27;, &#x27;*&#x27;]&quot;, 5), (&quot;[&#x27;*&#x27;, &#x27;conj&#x27;, &#x27;*&#x27;]&quot;, 5), (&quot;[&#x27;*&#x27;, &#x27;acl:relcl&#x27;, &#x27;*&#x27;]&quot;, 5), (&quot;[&#x27;OT&#x27;, &#x27;xcomp&#x27;, &#x27;*&#x27;]&quot;, 5), (&quot;[&#x27;*&#x27;, &#x27;nsubj&#x27;, &#x27;OT&#x27;]&quot;, 5)]                                                                           </td><td>[(&quot;[&#x27;*&#x27;, &#x27;nsubj&#x27;, &#x27;*&#x27;]&quot;, 372), (&quot;[&#x27;*&#x27;, &#x27;amod&#x27;, &#x27;AT&#x27;]&quot;, 265), (&quot;[&#x27;*&#x27;, &#x27;obj&#x27;, &#x27;*&#x27;]&quot;, 51), (&quot;[&#x27;*&#x27;, &#x27;obl&#x27;, &#x27;*&#x27;]&quot;, 37), (&quot;[&#x27;*&#x27;, &#x27;acl:relcl&#x27;, &#x27;*&#x27;]&quot;, 18), (&quot;[&#x27;*&#x27;, &#x27;compound&#x27;, &#x27;AT&#x27;]&quot;, 18), (&quot;[&#x27;*&#x27;, &#x27;amod&#x27;, &#x27;*&#x27;]&quot;, 16), (&quot;[&#x27;AT&#x27;, &#x27;amod&#x27;, &#x27;AT&#x27;]&quot;, 15), (&quot;[&#x27;*&#x27;, &#x27;nsubj&#x27;, &#x27;AT&#x27;]&quot;, 13), (&quot;[&#x27;*&#x27;, &#x27;nmod&#x27;, &#x27;*&#x27;]&quot;, 11)]                                                                                  </td><td>[(&quot;[&#x27;*&#x27;, &#x27;nsubj&#x27;, &#x27;*&#x27;]&quot;, 125), (&quot;[&#x27;*&#x27;, &#x27;amod&#x27;, &#x27;AT&#x27;]&quot;, 57), (&quot;[&#x27;*&#x27;, &#x27;obl&#x27;, &#x27;*&#x27;]&quot;, 22), (&quot;[&#x27;*&#x27;, &#x27;obj&#x27;, &#x27;*&#x27;]&quot;, 18), (&quot;[&#x27;*&#x27;, &#x27;nsubj&#x27;, &#x27;OT&#x27;]&quot;, 12), (&quot;[&#x27;*&#x27;, &#x27;nmod&#x27;, &#x27;*&#x27;]&quot;, 9), (&quot;[&#x27;OT&#x27;, &#x27;advmod&#x27;, &#x27;*&#x27;]&quot;, 7), (&quot;[&#x27;*&#x27;, &#x27;advmod&#x27;, &#x27;*&#x27;]&quot;, 7), (&quot;[&#x27;*&#x27;, &#x27;case&#x27;, &#x27;OT&#x27;]&quot;, 6), (&quot;[&#x27;*&#x27;, &#x27;ccomp&#x27;, &#x27;*&#x27;]&quot;, 6)]                                                                    </td></tr>\n",
       "<tr><td>dm  </td><td>[(&quot;[&#x27;OT&#x27;, &#x27;ARG1&#x27;, &#x27;AT&#x27;]&quot;, 308), (&quot;[&#x27;OT&#x27;, &#x27;ARG2&#x27;, &#x27;AT&#x27;]&quot;, 31), (&quot;[&#x27;OT&#x27;, &#x27;ARG1&#x27;, &#x27;*&#x27;, &#x27;ARG1&#x27;, &#x27;AT&#x27;]&quot;, 10), (&quot;[&#x27;OT&#x27;, &#x27;ARG1&#x27;, &#x27;*&#x27;, &#x27;ARG2&#x27;, &#x27;AT&#x27;]&quot;, 9), (&quot;[&#x27;OT&#x27;, &#x27;ARG2&#x27;, &#x27;*&#x27;, &#x27;ARG2&#x27;, &#x27;AT&#x27;]&quot;, 4), (&quot;[&#x27;AT&#x27;, &#x27;ARG2&#x27;, &#x27;OT&#x27;]&quot;, 4), (&quot;[&#x27;OT&#x27;, &#x27;subord&#x27;, &#x27;*&#x27;, &#x27;ARG1&#x27;, &#x27;AT&#x27;]&quot;, 3), (&quot;[&#x27;OT&#x27;, &#x27;appos&#x27;, &#x27;AT&#x27;]&quot;, 2), (&quot;[&#x27;OT&#x27;, &#x27;subord&#x27;, &#x27;*&#x27;, &#x27;ARG2&#x27;, &#x27;AT&#x27;]&quot;, 2), (&quot;[&#x27;OT&#x27;, &#x27;compound&#x27;, &#x27;AT&#x27;]&quot;, 2)]      </td><td>[(&quot;[&#x27;OT&#x27;, &#x27;ARG1&#x27;, &#x27;AT&#x27;]&quot;, 709), (&quot;[&#x27;OT&#x27;, &#x27;ARG2&#x27;, &#x27;AT&#x27;]&quot;, 96), (&quot;[&#x27;OT&#x27;, &#x27;compound&#x27;, &#x27;AT&#x27;]&quot;, 15), (&quot;[&#x27;OT&#x27;, &#x27;ARG1&#x27;, &#x27;*&#x27;, &#x27;ARG1&#x27;, &#x27;AT&#x27;]&quot;, 15), (&quot;[&#x27;OT&#x27;, &#x27;ARG1&#x27;, &#x27;*&#x27;, &#x27;ARG2&#x27;, &#x27;AT&#x27;]&quot;, 9), (&quot;[&#x27;OT&#x27;, &#x27;ARG2&#x27;, &#x27;*&#x27;, &#x27;ARG2&#x27;, &#x27;AT&#x27;]&quot;, 7), (&quot;[&#x27;OT&#x27;, &#x27;ARG1&#x27;, &#x27;*&#x27;, &#x27;appos&#x27;, &#x27;AT&#x27;]&quot;, 6), (&quot;[&#x27;OT&#x27;, &#x27;ARG1&#x27;, &#x27;*&#x27;, &#x27;part&#x27;, &#x27;AT&#x27;]&quot;, 5), (&quot;[&#x27;OT&#x27;, &#x27;subord&#x27;, &#x27;*&#x27;, &#x27;ARG1&#x27;, &#x27;AT&#x27;]&quot;, 4), (&quot;[&#x27;OT&#x27;, &#x27;BV&#x27;, &#x27;AT&#x27;]&quot;, 2)]</td><td>[(&quot;[&#x27;OT&#x27;, &#x27;ARG1&#x27;, &#x27;AT&#x27;]&quot;, 244), (&quot;[&#x27;OT&#x27;, &#x27;ARG2&#x27;, &#x27;AT&#x27;]&quot;, 53), (&quot;[&#x27;OT&#x27;, &#x27;ARG1&#x27;, &#x27;*&#x27;, &#x27;ARG1&#x27;, &#x27;AT&#x27;]&quot;, 14), (&quot;[&#x27;OT&#x27;, &#x27;ARG1&#x27;, &#x27;*&#x27;, &#x27;ARG2&#x27;, &#x27;AT&#x27;]&quot;, 8), (&quot;[&#x27;OT&#x27;, &#x27;compound&#x27;, &#x27;AT&#x27;]&quot;, 7), (&quot;[&#x27;AT&#x27;, &#x27;compound&#x27;, &#x27;OT&#x27;]&quot;, 6), (&quot;[&#x27;OT&#x27;, &#x27;ARG2&#x27;, &#x27;*&#x27;, &#x27;ARG2&#x27;, &#x27;AT&#x27;]&quot;, 5), (&quot;[&#x27;OT&#x27;, &#x27;BV&#x27;, &#x27;AT&#x27;]&quot;, 3), (&quot;[&#x27;OT&#x27;, &#x27;loc&#x27;, &#x27;AT&#x27;]&quot;, 3), (&quot;[&#x27;OT&#x27;, &#x27;_and_c&#x27;, &#x27;AT&#x27;]&quot;, 2)]             </td></tr>\n",
       "<tr><td>psd </td><td>[(&quot;[&#x27;AT&#x27;, &#x27;RSTR&#x27;, &#x27;OT&#x27;]&quot;, 104), (&quot;[&#x27;OT&#x27;, &#x27;PAT-arg&#x27;, &#x27;AT&#x27;]&quot;, 33), (&quot;[&#x27;OT&#x27;, &#x27;ACT-arg&#x27;, &#x27;AT&#x27;]&quot;, 19), (&quot;[&#x27;AT&#x27;, &#x27;MANN&#x27;, &#x27;OT&#x27;]&quot;, 6), (&quot;[&#x27;OT&#x27;, &#x27;PAT-arg&#x27;, &#x27;*&#x27;, &#x27;PAT-arg&#x27;, &#x27;AT&#x27;]&quot;, 4), (&quot;[&#x27;AT&#x27;, &#x27;RSTR&#x27;, &#x27;*&#x27;, &#x27;PAT-arg&#x27;, &#x27;OT&#x27;]&quot;, 4), (&quot;[&#x27;AT&#x27;, &#x27;PAT-arg&#x27;, &#x27;OT&#x27;]&quot;, 3), (&quot;[&#x27;OT&#x27;, &#x27;PAT-arg&#x27;, &#x27;*&#x27;, &#x27;PAT-arg&#x27;, &#x27;*&#x27;, &#x27;PAT-arg&#x27;, &#x27;AT&#x27;]&quot;, 3), (&quot;[&#x27;OT&#x27;, &#x27;ACMP&#x27;, &#x27;AT&#x27;]&quot;, 2), (&quot;[&#x27;OT&#x27;, &#x27;MEANS&#x27;, &#x27;AT&#x27;]&quot;, 2)]</td><td>[(&quot;[&#x27;AT&#x27;, &#x27;RSTR&#x27;, &#x27;OT&#x27;]&quot;, 311), (&quot;[&#x27;OT&#x27;, &#x27;PAT-arg&#x27;, &#x27;AT&#x27;]&quot;, 100), (&quot;[&#x27;OT&#x27;, &#x27;ACT-arg&#x27;, &#x27;AT&#x27;]&quot;, 24), (&quot;[&#x27;AT&#x27;, &#x27;RSTR&#x27;, &#x27;*&#x27;, &#x27;PAT-arg&#x27;, &#x27;OT&#x27;]&quot;, 14), (&quot;[&#x27;AT&#x27;, &#x27;DESCR&#x27;, &#x27;*&#x27;, &#x27;PAT-arg&#x27;, &#x27;OT&#x27;]&quot;, 11), (&quot;[&#x27;AT&#x27;, &#x27;MANN&#x27;, &#x27;OT&#x27;]&quot;, 8), (&quot;[&#x27;OT&#x27;, &#x27;REG&#x27;, &#x27;AT&#x27;]&quot;, 7), (&quot;[&#x27;OT&#x27;, &#x27;PAT-arg&#x27;, &#x27;*&#x27;, &#x27;PAT-arg&#x27;, &#x27;AT&#x27;]&quot;, 6), (&quot;[&#x27;OT&#x27;, &#x27;AIM&#x27;, &#x27;AT&#x27;]&quot;, 4), (&quot;[&#x27;OT&#x27;, &#x27;MAT&#x27;, &#x27;AT&#x27;]&quot;, 4)]                          </td><td>[(&quot;[&#x27;AT&#x27;, &#x27;RSTR&#x27;, &#x27;OT&#x27;]&quot;, 72), (&quot;[&#x27;OT&#x27;, &#x27;PAT-arg&#x27;, &#x27;AT&#x27;]&quot;, 53), (&quot;[&#x27;OT&#x27;, &#x27;ACT-arg&#x27;, &#x27;AT&#x27;]&quot;, 42), (&quot;[&#x27;AT&#x27;, &#x27;MANN&#x27;, &#x27;OT&#x27;]&quot;, 22), (&quot;[&#x27;OT&#x27;, &#x27;REG&#x27;, &#x27;AT&#x27;]&quot;, 7), (&quot;[&#x27;OT&#x27;, &#x27;PAT-arg&#x27;, &#x27;*&#x27;, &#x27;PAT-arg&#x27;, &#x27;AT&#x27;]&quot;, 7), (&quot;[&#x27;AT&#x27;, &#x27;RSTR&#x27;, &#x27;*&#x27;, &#x27;PAT-arg&#x27;, &#x27;OT&#x27;]&quot;, 5), (&quot;[&#x27;OT&#x27;, &#x27;RSTR&#x27;, &#x27;AT&#x27;]&quot;, 4), (&quot;[&#x27;AT&#x27;, &#x27;RHEM&#x27;, &#x27;OT&#x27;]&quot;, 3), (&quot;[&#x27;AT&#x27;, &#x27;ACT-arg&#x27;, &#x27;*&#x27;, &#x27;PAT-arg&#x27;, &#x27;OT&#x27;]&quot;, 2)]</td></tr>\n",
       "</tbody>\n",
       "</table>"
      ],
      "text/plain": [
       "<IPython.core.display.HTML object>"
      ]
     },
     "metadata": {},
     "output_type": "display_data"
    }
   ],
   "source": [
    "# collect all path patterns\n",
    "deplbl_patterns = defaultdict(dict) # all patterns as list objects\n",
    "deplbl_pattern_strs = defaultdict(dict) # all patterns as string representation\n",
    "deplbl_counters = defaultdict(dict) # frequency distribution\n",
    "deplbl_top10 = defaultdict(dict) # top 10 most common patterns\n",
    "deplbl_n_patterns = defaultdict(dict) # number of different patterns\n",
    "\n",
    "for formalism in formalisms:\n",
    "    for domain in domains:\n",
    "        patterns = [deplbl_path_pattern(to_nx(g)) \n",
    "                    for g in all_indicative_graphs[formalism][domain]]\n",
    "        filtered_patterns = filtered(patterns)\n",
    "        deplbl_patterns[formalism][domain] = filtered_patterns\n",
    "        deplbl_pattern_strs[formalism][domain] = [repr(p) for p in filtered_patterns]\n",
    "        deplbl_counters[formalism][domain] = Counter(deplbl_pattern_strs[formalism][domain])\n",
    "        deplbl_top10[formalism][domain] = deplbl_counters[formalism][domain].most_common(10)\n",
    "        deplbl_n_patterns[formalism][domain] = len(deplbl_counters[formalism][domain])\n",
    "display_ndict(deplbl_top10, with_mean=False)"
   ]
  },
  {
   "cell_type": "code",
   "execution_count": 111,
   "metadata": {},
   "outputs": [
    {
     "name": "stdout",
     "output_type": "stream",
     "text": [
      "86\n"
     ]
    },
    {
     "data": {
      "image/png": "[encoded data removed]",
      "text/plain": [
       "<Figure size 432x288 with 1 Axes>"
      ]
     },
     "metadata": {
      "needs_background": "light"
     },
     "output_type": "display_data"
    },
    {
     "name": "stdout",
     "output_type": "stream",
     "text": [
      "125\n"
     ]
    },
    {
     "data": {
      "image/png": "[encoded data removed]",
      "text/plain": [
       "<Figure size 432x288 with 1 Axes>"
      ]
     },
     "metadata": {
      "needs_background": "light"
     },
     "output_type": "display_data"
    },
    {
     "name": "stdout",
     "output_type": "stream",
     "text": [
      "37\n"
     ]
    },
    {
     "data": {
      "image/png": "[encoded data removed]",
      "text/plain": [
       "<Figure size 432x288 with 1 Axes>"
      ]
     },
     "metadata": {
      "needs_background": "light"
     },
     "output_type": "display_data"
    },
    {
     "name": "stdout",
     "output_type": "stream",
     "text": [
      "50\n"
     ]
    },
    {
     "data": {
      "image/png": "[encoded data removed]",
      "text/plain": [
       "<Figure size 432x288 with 1 Axes>"
      ]
     },
     "metadata": {
      "needs_background": "light"
     },
     "output_type": "display_data"
    }
   ],
   "source": [
    "# Present commulative frequency of path-patterns histogram\n",
    "domain = ['device', 'restaurants', 'laptops'][2]\n",
    "# formalism = [\"ud\", \"dm\", \"psd\"][2]\n",
    "for formalism in formalisms:\n",
    "    print(len(deplbl_counters[formalism][domain]))\n",
    "    # plot_bar_with_long_labels(*zip(*deplbl_top10[formalism][domain]), title=formalism)\n",
    "    data = sorted(deplbl_counters[formalism][domain].values(), reverse=True)\n",
    "    cum = np.cumsum(data)\n",
    "    _, ax = plt.subplots()\n",
    "    ax.bar(np.arange(len(cum)), cum, color = 'blue', edgecolor = 'black')\n",
    "    ax.set_title(formalism)\n",
    "    plt.show()"
   ]
  },
  {
   "cell_type": "markdown",
   "metadata": {},
   "source": [
    "### Path Pattern - Cross-domain Similarity\n",
    "\n",
    "We want to assess to what extent linguistic information (syntactic vs. semantic information) may facilitate cross-domain generalization w.r.t. the ABSA task. To that end, we will measure how similar are OT\\~~AT paths across different domains.\n",
    "\n",
    "For each formalism, a domain is represented by a probability distribution of path-patterns. We measure the Jensen–Shannon Divergence (JSD) between any two domains, where lower JSD signals a potential for better cross-domain transfer.  "
   ]
  },
  {
   "cell_type": "code",
   "execution_count": 112,
   "metadata": {},
   "outputs": [
    {
     "name": "stdout",
     "output_type": "stream",
     "text": [
      "total number of patterns across domains:  {'clir': 167, 'ud': 221, 'dm': 68, 'psd': 100}\n"
     ]
    },
    {
     "data": {
      "text/html": [
       "<table>\n",
       "<tbody>\n",
       "<tr><td>-   </td><td>device-restaurants </td><td>device-laptops     </td><td>restaurants-laptops</td><td>mean               </td></tr>\n",
       "<tr><td>clir</td><td>0.44694165044082634</td><td>0.5289337146373878 </td><td>0.5627120372025615 </td><td>0.5128624674269252 </td></tr>\n",
       "<tr><td>ud  </td><td>0.3867909180946283 </td><td>0.47995387729075345</td><td>0.48366024647008926</td><td>0.45013501395182365</td></tr>\n",
       "<tr><td>dm  </td><td>0.20629419865364523</td><td>0.2884745618354457 </td><td>0.2734461836310043 </td><td>0.25607164804003174</td></tr>\n",
       "<tr><td>psd </td><td>0.34666981158496674</td><td>0.41488716420088073</td><td>0.47360542934857325</td><td>0.41172080171147357</td></tr>\n",
       "</tbody>\n",
       "</table>"
      ],
      "text/plain": [
       "<IPython.core.display.HTML object>"
      ]
     },
     "metadata": {},
     "output_type": "display_data"
    }
   ],
   "source": [
    "import scipy\n",
    "from scipy.spatial.distance import jensenshannon as jsd\n",
    "from itertools import combinations\n",
    "\n",
    "# convert path-pattern raw data (deplbl_pattern_strs) to a probability distribtuion of patterns\n",
    "all_patterns_of_formalism = {formalism: list(set().union(*[deplbl_pattern_strs[formalism][domain] \n",
    "                                                           for domain in domains])) \n",
    "                             for formalism in formalisms}\n",
    "n_all_patterns = {formalism: len(all_patterns) for formalism, all_patterns in all_patterns_of_formalism.items()}\n",
    "print(\"total number of patterns across domains: \", \n",
    "      n_all_patterns)\n",
    "# probabilty distribution for a domain would be a list, where index i is \n",
    "# the probability of the pattern all_patterns_of_formalism[formalism][i]\n",
    "pattern2idx = {formalism: {pattern: idx\n",
    "                           for idx, pattern in enumerate(all_patterns_of_formalism[formalism])}\n",
    "               for formalism in formalisms}\n",
    "pattern_prob_distr =  {formalism: {domain: [deplbl_counters[formalism][domain][pattern] / count_is_directed_path[formalism][domain] \n",
    "                                            for pattern in all_patterns_of_formalism[formalism]] \n",
    "                                   for domain in domains} \n",
    "                       for formalism in formalisms}\n",
    "assert abs(1-sum(pattern_prob_distr['dm']['device']))<0.00000001, \"probability distribution should sum up to 1\"\n",
    "\n",
    "# compute Jensen–Shannon Divergence (JSD) between any two domains\n",
    "domain_pairs = list(combinations(domains, 2))\n",
    "jsds = {formalism: {f\"{dom1}-{dom2}\": jsd(pattern_prob_distr[formalism][dom1], pattern_prob_distr[formalism][dom2], base=2) \n",
    "                    for dom1, dom2 in domain_pairs}\n",
    "        for formalism in formalisms}\n",
    "display_ndict(jsds)"
   ]
  },
  {
   "cell_type": "markdown",
   "metadata": {},
   "source": [
    "#### DRAFT"
   ]
  },
  {
   "cell_type": "code",
   "execution_count": 113,
   "metadata": {},
   "outputs": [
    {
     "name": "stdout",
     "output_type": "stream",
     "text": [
      "1\n",
      "- No backlit keyboard , but not an issue for me .\n",
      "[(1, 2)]\n",
      "[(3, 4)]\n"
     ]
    }
   ],
   "source": [
    "## work-space\n",
    "g = all_indicative_graphs[\"dm\"][\"laptops\"][4]\n",
    "nxg = to_nx(g)\n",
    "print(directed_path_length(nxg))\n",
    "# print([n.label for n in nxg.g.nodes])\n",
    "print(nxg.input)\n",
    "print(nxg.g.opinion_spans)\n",
    "print(nxg.g.aspect_spans)\n",
    "\n",
    "c= Counter([1,2,3,1,2,3,1,1,1,5,4,2,12])\n"
   ]
  }
 ],
 "metadata": {
  "kernelspec": {
   "display_name": "HIT-SCIR-venv",
   "language": "python",
   "name": "hit-scir-venv"
  },
  "language_info": {
   "codemirror_mode": {
    "name": "ipython",
    "version": 3
   },
   "file_extension": ".py",
   "mimetype": "text/x-python",
   "name": "python",
   "nbconvert_exporter": "python",
   "pygments_lexer": "ipython3",
   "version": "3.6.8"
  }
 },
 "nbformat": 4,
 "nbformat_minor": 4
}

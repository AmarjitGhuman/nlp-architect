{
 "cells": [
  {
   "cell_type": "markdown",
   "metadata": {},
   "source": [
    "## File Manipulation"
   ]
  },
  {
   "cell_type": "code",
   "execution_count": 12,
   "metadata": {},
   "outputs": [],
   "source": [
    "libert_dir = \"/data/home/ayalklei/nlp-architect/nlp_architect/models/libert\"\n",
    "domains = [\"restaurants\", \"laptops\", \"device\"]\n",
    "import sys, os, json, glob, csv \n"
   ]
  },
  {
   "cell_type": "code",
   "execution_count": 18,
   "metadata": {},
   "outputs": [
    {
     "name": "stdout",
     "output_type": "stream",
     "text": [
      "Made 108 replacements.\n"
     ]
    }
   ],
   "source": [
    "path = f\"{libert_dir}/logs/Wed_Dec_16_11:18:36bert-amtl-all/dm\"\n",
    "counter=0\n",
    "for dirn in os.listdir(path):\n",
    "    if \"_to_\" in dirn:\n",
    "        for subd in os.listdir(os.path.join(path, dirn)):\n",
    "            for ssubd in os.listdir(os.path.join(path, dirn, subd)):\n",
    "                if \"libert_baseline\" in ssubd:\n",
    "                    counter += 1\n",
    "                    os.rename(os.path.join(path, dirn, subd, ssubd), os.path.join(path, dirn, subd, ssubd.replace(\"libert_baseline\", \"bert_baseline\")))\n",
    "\n",
    "print(f\"Made {counter} replacements.\")"
   ]
  },
  {
   "cell_type": "markdown",
   "metadata": {},
   "source": [
    "## Tensor operations"
   ]
  },
  {
   "cell_type": "code",
   "execution_count": 19,
   "metadata": {},
   "outputs": [],
   "source": [
    "import torch\n",
    "from torch import tensor as tn"
   ]
  },
  {
   "cell_type": "code",
   "execution_count": 50,
   "metadata": {},
   "outputs": [
    {
     "data": {
      "text/plain": [
       "(tensor([[[2, 3, 2, 2],\n",
       "          [1, 3, 0, 2],\n",
       "          [1, 1, 0, 3]],\n",
       " \n",
       "         [[1, 1, 1, 1],\n",
       "          [3, 1, 1, 0],\n",
       "          [3, 3, 1, 2]]]),\n",
       " tensor([[1, 1, 0, 1],\n",
       "         [0, 1, 1, 0],\n",
       "         [0, 1, 0, 0]]),\n",
       " tensor([1, 1, 1, 2]))"
      ]
     },
     "execution_count": 50,
     "metadata": {},
     "output_type": "execute_result"
    }
   ],
   "source": [
    "x = torch.randint(4, (2,3,4))\n",
    "y = torch.randint(2, (3,4))\n",
    "z = torch.randint(3, (4,))\n",
    "x, y, z"
   ]
  },
  {
   "cell_type": "code",
   "execution_count": 57,
   "metadata": {},
   "outputs": [
    {
     "data": {
      "text/plain": [
       "tensor([[0, 0],\n",
       "        [0, 1],\n",
       "        [0, 3],\n",
       "        [1, 1],\n",
       "        [1, 2],\n",
       "        [2, 1]])"
      ]
     },
     "execution_count": 57,
     "metadata": {},
     "output_type": "execute_result"
    }
   ],
   "source": [
    "y.nonzero(as_tuple=False)"
   ]
  }
 ],
 "metadata": {
  "kernelspec": {
   "display_name": "libert_ud",
   "language": "python",
   "name": "libert_ud"
  },
  "language_info": {
   "codemirror_mode": {
    "name": "ipython",
    "version": 3
   },
   "file_extension": ".py",
   "mimetype": "text/x-python",
   "name": "python",
   "nbconvert_exporter": "python",
   "pygments_lexer": "ipython3",
   "version": "3.6.8"
  }
 },
 "nbformat": 4,
 "nbformat_minor": 4
}
